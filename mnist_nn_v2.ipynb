{
  "nbformat": 4,
  "nbformat_minor": 0,
  "metadata": {
    "colab": {
      "provenance": [],
      "collapsed_sections": []
    },
    "kernelspec": {
      "name": "python3",
      "display_name": "Python 3"
    },
    "accelerator": "TPU"
  },
  "cells": [
    {
      "cell_type": "markdown",
      "metadata": {
        "id": "g7_VRhRqpbmA"
      },
      "source": [
        "'''\n",
        "\n",
        "# Exercises using Colab, Machine Learning, and ...\n",
        "\n",
        "This is a [jupyter notebook](https://jupyter-notebook.readthedocs.io/en/stable/notebook.html) interface where several elements can be mixed e.g., \n",
        "\n",
        "* python code\n",
        "* data\n",
        "* comments\n",
        "* ...\n",
        "\n",
        "You can copy and past the code during the lesson from the link:\n",
        "[tinyurl.com/mcsharednotes](tinyurl.com/mcsharednotes)\n",
        "\n",
        "## Creating an empty Colab\n",
        "Please follows the next steps\n",
        "\n",
        "* Open in a browser the URL [https://drive.google.com/](https://drive.google.com/) \n",
        "\n",
        "* Please choose\n",
        "\n",
        "+ New / More / Colaboratory\n",
        "\n",
        "* Save the notebook in your preferred gdrive location  \n",
        "\n",
        "## Markdown\n",
        "Contents in **texts cells** can be written using [markdonw syntax](https://jupyter-notebook.readthedocs.io/en/stable/examples/Notebook/Working%20With%20Markdown%20Cells.html). \n",
        "\n",
        "Here it is a quick reference to the markdown syntax: \n",
        "\n",
        "[https://en.support.wordpress.com/markdown-quick-reference/](https://en.support.wordpress.com/markdown-quick-reference/) \n",
        "\n",
        "### COLAB Keyboard Shortcuts\n",
        "To access the COLAB keyboard shortcuts:\n",
        "\n",
        "[Menu] Tools / Keyboard Shortcuts (ctrl to be replaced by Command in the Mac)\n",
        "\n",
        "* Ctrl+M  M     To change a cell into text\n",
        "* Ctrl+M  Y      To change a cell into code\n",
        "* Ctrl+M L       Toggle line numbers\n",
        "\n",
        "'''"
      ]
    },
    {
      "cell_type": "markdown",
      "metadata": {
        "id": "5JPg3NrQpoYn"
      },
      "source": [
        "'''\n",
        "# MNIST and Neural Networks\n",
        "\n",
        "\n",
        "Credits. This notebook was (greatly) inspired by the work of <!-- [Daniel Moser](https://colab.research.google.com/github/csc-training/intro-to-dl/blob/master/day1/keras-mnist-cnn.ipynb), --> [Xavier Snelgrove](https://github.com/wxs/keras-mnist-tutorial), [Yash Katariya](https://github.com/yashk2810/MNIST-Keras), [\n",
        "Parul Pandey\n",
        "](https://medium.com/analytics-vidhya/the-fashionable-hello-world-of-deep-learning-8b9e3d60a37c)\n",
        "\n",
        "[MNIST](http://yann.lecun.com/exdb/mnist/) is a database of thousands of handwritten digits.\n",
        "Training a model on the MNIST handwritten digits data is a classic in the Machine Learning community. It is considered as the entry point for Deep learning exercises.\n",
        "MNIST is a set of 60,000 training images, plus 10,000 test images, assembled by the National Institute of Standards and Technology (the NIST in MNIST) in the 1980s. The aim is to classify grayscale images of handwritten digits (28 × 28 pixels) into their 10 categories (0 through 9). \n",
        "\n",
        "*Solving* the MNIST is analogous to the “Hello World” of deep learning. \n",
        "\n",
        "<img src=\"https://github.com/AviatorMoser/keras-mnist-tutorial/blob/master/mnist.png?raw=1\" >\n",
        "\n",
        "'''"
      ]
    },
    {
      "cell_type": "markdown",
      "metadata": {
        "id": "ad_pJ1R3p5lI"
      },
      "source": [
        "'''\n",
        "## Backend \n",
        "We will use the Keras Python API with TensorFlow as the backend.\n",
        "Please, in the COLAB menu, select: Runtime / Change Runtime Type / ...\n",
        "Select\n",
        "\n",
        "* If you can choose between Python2 and Python 3, please select **Python3** as Runtime type: \n",
        "\n",
        "* **TPU** as Hardware Accelerator\n",
        "\n",
        "What can I do to run this notebook locally and not on Colab?\n",
        "\n",
        "You need [GPU Hardware](https://devblogs.nvidia.com/accelerate-machine-learning-cudnn-deep-neural-network-library/), and install the required drivers.\n",
        "\n",
        "\n",
        "'''"
      ]
    },
    {
      "cell_type": "code",
      "metadata": {
        "id": "YMhILCE4uj0X"
      },
      "source": [
        "##########################\n",
        "# Loading the required libraries\n",
        "\n",
        "import numpy as np                   # Advanced math library\n",
        "import matplotlib.pyplot as plt      # To plot data\n",
        "import random                        # Library for random numbers\n",
        "\n",
        "# Keras library an d its highly abstract API will be used as front-end for programming Neural Networks\n",
        "# Tensor flow will be used by Keras as back-end\n",
        "\n",
        "import tensorflow as tf              # Library for low level neural network management\n",
        "\n",
        "from keras.datasets import mnist     # MNIST dataset is included in Keras\n",
        "from keras.models import Sequential  # Neural Network Model type \n",
        "\n",
        "from keras.layers.core import Dense, Dropout, Activation # Types of Neural Network Layers\n",
        "from keras.utils import np_utils                         # Keras tools for dealing with NumPy\n",
        "\n",
        "from IPython.display import IFrame   # to produce nice outputs and to embed web sites in notebooks\n",
        "\n",
        "# If it will appear Using ****** backend if Keras Library is loaded successfully"
      ],
      "execution_count": null,
      "outputs": []
    },
    {
      "cell_type": "markdown",
      "metadata": {
        "id": "t38wSsaLvewF"
      },
      "source": [
        "'''\n",
        "\n",
        "## Training Dataset\n",
        "\n",
        "Dataset Inspection\n",
        "\n",
        "'''"
      ]
    },
    {
      "cell_type": "code",
      "metadata": {
        "id": "lYpwI4EewFkg",
        "colab": {
          "base_uri": "https://localhost:8080/"
        },
        "outputId": "4f50f373-62a8-4aba-c689-22a9a94dcee5"
      },
      "source": [
        "#######################\n",
        "# Loading data\n",
        "(X_train, y_train), (X_test, y_test) = mnist.load_data()\n",
        "\n",
        "# A MNIST image has 28 x 28 pixel.\n",
        "# The training and test number of images are:\n",
        "\n",
        "print(\"Train dataset info. (60'000 images of 28x28 pixels)\")\n",
        "print(\"X_train shape\", X_train.shape)\n",
        "print(\"y_train shape\", y_train.shape)\n",
        "print()\n",
        "print(\"Test dataset info. (10'000 images of 28x28 pixels)\")\n",
        "print(\"X_test shape\", X_test.shape)\n",
        "print(\"y_test shape\", y_test.shape)"
      ],
      "execution_count": null,
      "outputs": [
        {
          "output_type": "stream",
          "name": "stdout",
          "text": [
            "Downloading data from https://storage.googleapis.com/tensorflow/tf-keras-datasets/mnist.npz\n",
            "11493376/11490434 [==============================] - 0s 0us/step\n",
            "11501568/11490434 [==============================] - 0s 0us/step\n",
            "Train dataset info. (60'000 images of 28x28 pixels)\n",
            "X_train shape (60000, 28, 28)\n",
            "y_train shape (60000,)\n",
            "\n",
            "Test dataset info. (10'000 images of 28x28 pixels)\n",
            "X_test shape (10000, 28, 28)\n",
            "y_test shape (10000,)\n"
          ]
        }
      ]
    },
    {
      "cell_type": "code",
      "metadata": {
        "id": "ertnHYWgwYGQ",
        "colab": {
          "base_uri": "https://localhost:8080/",
          "height": 297
        },
        "outputId": "3feb01bd-d9fa-4ed7-f2c7-11cba70a06d6"
      },
      "source": [
        "##############################\n",
        "# Drawing the pictures using Matplotlib\n",
        "\n",
        "# Uncomment the command below to make the figures a bit bigger\n",
        "#plt.rcParams['figure.figsize'] = (9,9) \n",
        "\n",
        "for i in range(9):\n",
        "    plt.subplot(3,3,i+1)\n",
        "    # The image to be displaied are randomly selected\n",
        "    num = random.randint(0, len(X_train))\n",
        "    plt.imshow(X_train[num], cmap='gray', interpolation='none')\n",
        "    plt.title(\"Class {}\".format(y_train[num]))\n",
        "    \n",
        "plt.tight_layout()"
      ],
      "execution_count": null,
      "outputs": [
        {
          "output_type": "display_data",
          "data": {
            "text/plain": [
              "<Figure size 432x288 with 9 Axes>"
            ],
            "image/png": "[encoded data removed]"
          },
          "metadata": {
            "needs_background": "light"
          }
        }
      ]
    },
    {
      "cell_type": "code",
      "metadata": {
        "id": "1WzYXyiKxJS_",
        "colab": {
          "base_uri": "https://localhost:8080/"
        },
        "outputId": "d025cf0b-37e6-4b57-c2f9-d5f4e5f124a7"
      },
      "source": [
        "##############################\n",
        "# Let's examine a single digit a little closer, and print out the array representing the last digit.\n",
        "\n",
        "# Function to pretty print a matrix\n",
        "def matprint(mat, fmt=\"g\"):\n",
        "    col_maxes = [max([len((\"{:\"+fmt+\"}\").format(x)) for x in col]) for col in mat.T]\n",
        "    for x in mat:\n",
        "        for i, y in enumerate(x):\n",
        "            print((\"{:\"+str(col_maxes[i])+fmt+\"}\").format(y), end=\"  \")\n",
        "        print(\"\")\n",
        "\n",
        "# now print!        \n",
        "matprint(X_train[1]) # Plotting the X_train image of index 1"
      ],
      "execution_count": null,
      "outputs": [
        {
          "output_type": "stream",
          "name": "stdout",
          "text": [
            "0  0  0  0  0  0   0    0    0    0    0    0    0    0    0    0    0    0    0    0    0    0    0  0  0  0  0  0  \n",
            "0  0  0  0  0  0   0    0    0    0    0    0    0    0    0    0    0    0    0    0    0    0    0  0  0  0  0  0  \n",
            "0  0  0  0  0  0   0    0    0    0    0    0    0    0    0    0    0    0    0    0    0    0    0  0  0  0  0  0  \n",
            "0  0  0  0  0  0   0    0    0    0    0    0    0    0    0    0    0    0    0    0    0    0    0  0  0  0  0  0  \n",
            "0  0  0  0  0  0   0    0    0    0    0    0    0    0    0   51  159  253  159   50    0    0    0  0  0  0  0  0  \n",
            "0  0  0  0  0  0   0    0    0    0    0    0    0    0   48  238  252  252  252  237    0    0    0  0  0  0  0  0  \n",
            "0  0  0  0  0  0   0    0    0    0    0    0    0   54  227  253  252  239  233  252   57    6    0  0  0  0  0  0  \n",
            "0  0  0  0  0  0   0    0    0    0    0   10   60  224  252  253  252  202   84  252  253  122    0  0  0  0  0  0  \n",
            "0  0  0  0  0  0   0    0    0    0    0  163  252  252  252  253  252  252   96  189  253  167    0  0  0  0  0  0  \n",
            "0  0  0  0  0  0   0    0    0    0   51  238  253  253  190  114  253  228   47   79  255  168    0  0  0  0  0  0  \n",
            "0  0  0  0  0  0   0    0    0   48  238  252  252  179   12   75  121   21    0    0  253  243   50  0  0  0  0  0  \n",
            "0  0  0  0  0  0   0    0   38  165  253  233  208   84    0    0    0    0    0    0  253  252  165  0  0  0  0  0  \n",
            "0  0  0  0  0  0   0    7  178  252  240   71   19   28    0    0    0    0    0    0  253  252  195  0  0  0  0  0  \n",
            "0  0  0  0  0  0   0   57  252  252   63    0    0    0    0    0    0    0    0    0  253  252  195  0  0  0  0  0  \n",
            "0  0  0  0  0  0   0  198  253  190    0    0    0    0    0    0    0    0    0    0  255  253  196  0  0  0  0  0  \n",
            "0  0  0  0  0  0  76  246  252  112    0    0    0    0    0    0    0    0    0    0  253  252  148  0  0  0  0  0  \n",
            "0  0  0  0  0  0  85  252  230   25    0    0    0    0    0    0    0    0    7  135  253  186   12  0  0  0  0  0  \n",
            "0  0  0  0  0  0  85  252  223    0    0    0    0    0    0    0    0    7  131  252  225   71    0  0  0  0  0  0  \n",
            "0  0  0  0  0  0  85  252  145    0    0    0    0    0    0    0   48  165  252  173    0    0    0  0  0  0  0  0  \n",
            "0  0  0  0  0  0  86  253  225    0    0    0    0    0    0  114  238  253  162    0    0    0    0  0  0  0  0  0  \n",
            "0  0  0  0  0  0  85  252  249  146   48   29   85  178  225  253  223  167   56    0    0    0    0  0  0  0  0  0  \n",
            "0  0  0  0  0  0  85  252  252  252  229  215  252  252  252  196  130    0    0    0    0    0    0  0  0  0  0  0  \n",
            "0  0  0  0  0  0  28  199  252  252  253  252  252  233  145    0    0    0    0    0    0    0    0  0  0  0  0  0  \n",
            "0  0  0  0  0  0   0   25  128  252  253  252  141   37    0    0    0    0    0    0    0    0    0  0  0  0  0  0  \n",
            "0  0  0  0  0  0   0    0    0    0    0    0    0    0    0    0    0    0    0    0    0    0    0  0  0  0  0  0  \n",
            "0  0  0  0  0  0   0    0    0    0    0    0    0    0    0    0    0    0    0    0    0    0    0  0  0  0  0  0  \n",
            "0  0  0  0  0  0   0    0    0    0    0    0    0    0    0    0    0    0    0    0    0    0    0  0  0  0  0  0  \n",
            "0  0  0  0  0  0   0    0    0    0    0    0    0    0    0    0    0    0    0    0    0    0    0  0  0  0  0  0  \n"
          ]
        }
      ]
    },
    {
      "cell_type": "markdown",
      "metadata": {
        "id": "D17fVnXWxmdo"
      },
      "source": [
        "'''\n",
        "\n",
        "# Flattening the input data layer\n",
        "\n",
        "We are going to build a *fully connected artificial neural network* to classify the digits. The network needs a flatten dataset input. Instead of a 28 x 28 matrix, we build our network to accept a 784-length vector (i.e., 28x28=784).\n",
        "\n",
        "Each image needs to be then reshaped (or flattened) into a vector. We'll also normalize the inputs to be in the range [0-1] rather than [0-255]. Normalizing inputs is generally recommended, so that any additional dimensions (for other network architectures) are of the same scale.\n",
        "\n",
        "<img src='https://github.com/AviatorMoser/keras-mnist-tutorial/blob/master/flatten.png?raw=1' >\n",
        "\n",
        "<!-- Credits: [Daniel Moser](https://colab.research.google.com/github/csc-training/intro-to-dl/blob/master/day1/keras-mnist-cnn.ipynb). Unfortunately it doesn't work anymore -->\n",
        "\n",
        "'''\n"
      ]
    },
    {
      "cell_type": "code",
      "metadata": {
        "id": "obddfOaH__gZ",
        "colab": {
          "base_uri": "https://localhost:8080/"
        },
        "outputId": "a6cfefad-6b15-4776-a3e2-db7f7e5ab134"
      },
      "source": [
        "############\n",
        "# Flattening the input data layer\n",
        "# 784 = 28x28\n",
        "X_train = X_train.reshape(60000, 784) # reshape (60'000, 28, 28) tensor into (60'000, 784) matrix\n",
        "X_test = X_test.reshape(10000, 784)   # reshape (10'000, 28, 28) tensor into (10'000, 784) matrix\n",
        "\n",
        "\n",
        "# change integers to 32-bit floating point numbers\n",
        "X_train = X_train.astype('float32')   \n",
        "X_test = X_test.astype('float32')\n",
        "\n",
        "# normalize each value for each pixel for the entire vector for each input\n",
        "X_train /= 255                        \n",
        "X_test /= 255\n",
        "\n",
        "print(\"Training matrix shape\", X_train.shape)\n",
        "print(\"Testing matrix shape\", X_test.shape)"
      ],
      "execution_count": null,
      "outputs": [
        {
          "output_type": "stream",
          "name": "stdout",
          "text": [
            "Training matrix shape (60000, 784)\n",
            "Testing matrix shape (10000, 784)\n"
          ]
        }
      ]
    },
    {
      "cell_type": "markdown",
      "metadata": {
        "id": "t2hd2ScOAWo_"
      },
      "source": [
        "We modify the Y using one-hot-encoding \n",
        "(Statisticians call this \"dummy variables\").\n",
        "This will be useful, because the final output of the neural network will \n",
        "be very close to the one-hot-encoding format (more details later).\n",
        "\n",
        "Examples of one-hot encoding\n",
        "\n",
        "```\n",
        "0 -> [1, 0, 0, 0, 0, 0, 0, 0, 0, 0]\n",
        "1 -> [0, 1, 0, 0, 0, 0, 0, 0, 0, 0]\n",
        "2 -> [0, 0, 1, 0, 0, 0, 0, 0, 0, 0]\n",
        "etc.\n",
        "```\n",
        "\n",
        "An example of the final (prediction) output of the network might be\n",
        "\n",
        "```\n",
        "[0, 0.94, 0, 0, 0, 0, 0.06, 0, 0, 0]\n",
        "```\n",
        "Each value will be between 0 and 1, the **highest value** will be the prediction.\n",
        "\n",
        "E.g., in the data above the image is predicted being the digit `1`."
      ]
    },
    {
      "cell_type": "code",
      "metadata": {
        "id": "wpylrvm0C0Ap"
      },
      "source": [
        "############\n",
        "# Turning data into one-hot_encoding\n",
        "nb_classes = 10 # number of unique digits\n",
        "\n",
        "Y_train = np_utils.to_categorical(y_train, nb_classes)\n",
        "Y_test = np_utils.to_categorical(y_test, nb_classes)"
      ],
      "execution_count": null,
      "outputs": []
    },
    {
      "cell_type": "markdown",
      "metadata": {
        "id": "oABB7BIAC5Q0"
      },
      "source": [
        "# Building a 3-layer fully connected network (FCN)\n",
        "\n",
        "<img src=\"https://github.com/AviatorMoser/keras-mnist-tutorial/blob/master/figure.png?raw=1\" />\n",
        "\n",
        "<!-- Credits: [Daniel Moser](https://colab.research.google.com/github/csc-training/intro-to-dl/blob/master/day1/keras-mnist-cnn.ipynb) Unfortunately it doesn't work anymore -->"
      ]
    },
    {
      "cell_type": "code",
      "metadata": {
        "id": "pftX0NYQC8Ip"
      },
      "source": [
        "############\n",
        "# Here it is the underlying framework of the Neural Network we are going to build\n",
        "\n",
        "# The Sequential model is a linear stack of layers \n",
        "model = Sequential()\n",
        "\n",
        "# 1st hidden Layer \n",
        "\n",
        "# The first hidden layer is a set of 512 nodes (artificial neurons).\n",
        "# Each node will receive an element from each input vector and apply \n",
        "# some weight and bias to it.\n",
        "# input_shape=(784,) is the length of a vector representing an image which is fed\n",
        "# to the network for classification.\n",
        "# Please remember that 28x28=784\n",
        "model.add(Dense(512, input_shape=(784,), \n",
        "                kernel_initializer = tf.random.uniform) # Weight values are initialized randomly\n",
        ") \n"
      ],
      "execution_count": null,
      "outputs": []
    },
    {
      "cell_type": "code",
      "metadata": {
        "id": "lh3Xn4o7EMS4"
      },
      "source": [
        "############\n",
        "# An \"activation\" is a non-linear function applied to the output of the layer above.\n",
        "# It checks the new value of the node, and decides whether that artifical neuron has fired.\n",
        "# The Rectified Linear Unit (ReLU) converts all negative inputs to nodes in the next layer to be zero.\n",
        "# Those inputs are then not considered to be fired.\n",
        "# Positive values of a node are unchanged.\n",
        "\n",
        "model.add(Activation('relu'))"
      ],
      "execution_count": null,
      "outputs": []
    },
    {
      "cell_type": "markdown",
      "metadata": {
        "id": "yaRhVHtMERvC"
      },
      "source": [
        "$$f(x) = max (0,x)$$"
      ]
    },
    {
      "cell_type": "code",
      "metadata": {
        "id": "K9al373YE_xn"
      },
      "source": [
        "############\n",
        "# Now adding the Dropout Layer.\n",
        "# A Dropout Layer randomly zeroes a selection of outputs (i.e., disables their activation)\n",
        "# A Dropout layer helps protect the model from memorizing or \"overfitting\" the training data.\n",
        "# Dropouts works only during training i.e., the net should develop a model\n",
        "# using few information, while during prediction all the available information are used.\n",
        "model.add(Dropout(rate=0.2)) # 4 out of 5 neuron outputs are zeroed"
      ],
      "execution_count": null,
      "outputs": []
    },
    {
      "cell_type": "code",
      "metadata": {
        "id": "uCOsu18jFAMW"
      },
      "source": [
        "## Adding the second hidden layer\n",
        "# The second hidden layer appears identical to our first layer.\n",
        "# However, instead of each of the 512-node receiving 784-inputs from the input image data,\n",
        "# they receive 512 inputs from the output of the first 512-node layer.\n",
        "\n",
        "model.add(Dense(512))\n",
        "model.add(Activation('relu'))\n",
        "model.add(Dropout(rate=0.2))"
      ],
      "execution_count": null,
      "outputs": []
    },
    {
      "cell_type": "code",
      "metadata": {
        "id": "d1F5RoydFGHT"
      },
      "source": [
        "# The Final Output Layer\n",
        "# The final layer of 10 neurons in fully-connected to the previous 512-node layer.\n",
        "# The final layer of a FCN (Fully Connected Network) should be equal to the number of desired classes (10 in this case).\n",
        "model.add(Dense(10))\n",
        "\n",
        "# The \"softmax\" activation represents a probability distribution over K different possible outcomes.\n",
        "# Its values are all non-negative and sum to 1.\n",
        "model.add(Activation('softmax'))"
      ],
      "execution_count": null,
      "outputs": []
    },
    {
      "cell_type": "code",
      "metadata": {
        "id": "VXw2xqRuFOzG",
        "colab": {
          "base_uri": "https://localhost:8080/"
        },
        "outputId": "7103f369-1581-48c3-d644-f90deeb8b893"
      },
      "source": [
        "# Let's print the model summary\n",
        "model.summary()"
      ],
      "execution_count": null,
      "outputs": [
        {
          "output_type": "stream",
          "name": "stdout",
          "text": [
            "Model: \"sequential\"\n",
            "_________________________________________________________________\n",
            " Layer (type)                Output Shape              Param #   \n",
            "=================================================================\n",
            " dense (Dense)               (None, 512)               401920    \n",
            "                                                                 \n",
            " activation (Activation)     (None, 512)               0         \n",
            "                                                                 \n",
            " dropout (Dropout)           (None, 512)               0         \n",
            "                                                                 \n",
            " dense_1 (Dense)             (None, 512)               262656    \n",
            "                                                                 \n",
            " activation_1 (Activation)   (None, 512)               0         \n",
            "                                                                 \n",
            " dropout_1 (Dropout)         (None, 512)               0         \n",
            "                                                                 \n",
            " dense_2 (Dense)             (None, 10)                5130      \n",
            "                                                                 \n",
            " activation_2 (Activation)   (None, 10)                0         \n",
            "                                                                 \n",
            "=================================================================\n",
            "Total params: 669,706\n",
            "Trainable params: 669,706\n",
            "Non-trainable params: 0\n",
            "_________________________________________________________________\n"
          ]
        }
      ]
    },
    {
      "cell_type": "markdown",
      "metadata": {
        "id": "nI8bzLM2FTW2"
      },
      "source": [
        "# Compiling the model\n",
        "\n",
        "Keras is built on top of Theano and TensorFlow. Both packages allow you to define a *computation graph* in Python, which then compiles and runs efficiently on the CPU or GPU without the overhead of the Python interpreter.\n",
        "\n",
        "When compiing a model, Keras asks you to specify your **loss function** and your **optimizer**. The loss function we'll use here is called *softmax* or *categorical cross-entropy*, and is a loss function well-suited to comparing two probability distributions.\n",
        "\n",
        "Our predictions are probability distributions across the ten different digits (e.g. \"we're 80% confident this image is a 3, 10% sure it's an 8, 5% it's a 2, etc.\"), and the target is a probability distribution with 100% for the correct category, and 0 for everything else. The cross-entropy is a measure of how different your predicted distribution is from the target distribution. [More details here](https://en.wikipedia.org/wiki/Cross_entropy)\n",
        "\n",
        "The optimizer helps determine how quickly the model learns through **gradient descent**. The rate at which descends a gradient is called the **learning rate**."
      ]
    },
    {
      "cell_type": "markdown",
      "metadata": {
        "id": "lfGmzA2lFdFy"
      },
      "source": [
        "So are smaller learning rates better? Not quite! It's important for an optimizer not to get stuck in local minima while neglecting the global minimum of the loss function. Sometimes that means trying a larger learning rate to jump out of a local minimum."
      ]
    },
    {
      "cell_type": "code",
      "metadata": {
        "id": "mSDcgcNzFtZ3"
      },
      "source": [
        "# Now the model we described above is compiled into code \n",
        "# that can be efficiently run on a computation resource \n",
        "# (in this case the google cloud infrastructure). GPU are used\n",
        "# Let's use the Adam optimizer for learning\n",
        "model.compile(loss='categorical_crossentropy', # loss (penalty) function\n",
        "              optimizer='adam',  # optimizer\n",
        "              metrics=['accuracy'] # target measure\n",
        "             )\n",
        "# Adam optimization is a stochastic gradient descent method that is based \n",
        "# on adaptive estimation of first-order and second-order moments.\n",
        "# More info on https://keras.io/api/optimizers/adam/\n",
        "# and http://arxiv.org/abs/1412.6980"
      ],
      "execution_count": null,
      "outputs": []
    },
    {
      "cell_type": "markdown",
      "metadata": {
        "id": "sW2REbxhGOUq"
      },
      "source": [
        "'''\n",
        "\n",
        "# Training the model\n",
        "\n",
        "The batch size determines over how much data per step is used to compute the loss function, gradients, and back propagation. Large batch sizes allow the network to complete it's training faster; however, there are other factors beyond training speed to consider.\n",
        "\n",
        "Too large of a batch size smoothes the local minima of the loss function, causing the optimizer to settle in one because it thinks it found the global minimum.\n",
        "\n",
        "Too small of a batch size creates a very noisy loss function, and the optimizer may never find the global minimum.\n",
        "\n",
        "So a good batch size may take some trial and error to find!\n",
        "\n",
        "'''"
      ]
    },
    {
      "cell_type": "code",
      "metadata": {
        "id": "l5GZNapBGgJY",
        "colab": {
          "base_uri": "https://localhost:8080/"
        },
        "outputId": "c8c45535-60a8-45d0-84bd-2229382f71a3"
      },
      "source": [
        "model.fit(X_train, Y_train,\n",
        "          batch_size=128, \n",
        "          epochs=5,\n",
        "          verbose=1)"
      ],
      "execution_count": null,
      "outputs": [
        {
          "output_type": "stream",
          "name": "stdout",
          "text": [
            "Epoch 1/5\n",
            "469/469 [==============================] - 15s 29ms/step - loss: 5.4321 - accuracy: 0.1122\n",
            "Epoch 2/5\n",
            "469/469 [==============================] - 12s 25ms/step - loss: 2.3044 - accuracy: 0.1126\n",
            "Epoch 3/5\n",
            "469/469 [==============================] - 8s 16ms/step - loss: 2.3017 - accuracy: 0.1124\n",
            "Epoch 4/5\n",
            "469/469 [==============================] - 8s 16ms/step - loss: 2.3018 - accuracy: 0.1124\n",
            "Epoch 5/5\n",
            "469/469 [==============================] - 7s 16ms/step - loss: 2.3016 - accuracy: 0.1124\n"
          ]
        },
        {
          "output_type": "execute_result",
          "data": {
            "text/plain": [
              "<keras.callbacks.History at 0x7f3d57f40910>"
            ]
          },
          "metadata": {},
          "execution_count": 14
        }
      ]
    },
    {
      "cell_type": "markdown",
      "metadata": {
        "id": "dJ7zgZTsGiwv"
      },
      "source": [
        "'''\n",
        "Each Epoch upgrading the weights 469 times i.e.,\n",
        "60'000 (rows in the training set) / 128 (batch size) = 468.75 --> 469 \n",
        "\n",
        "*Loss* and *Accuracy*, in order, represent:\n",
        "\n",
        "-  the value of the loss function of the network on the training set, \n",
        "\n",
        "- and the overall accuracy of the network on the training data. Please, remember that *Accuracy* metric was chosen when model.compile() was invoked.\n",
        "\n",
        "'''"
      ]
    },
    {
      "cell_type": "markdown",
      "metadata": {
        "id": "qNOcbbvhG1L0"
      },
      "source": [
        "'''\n",
        "\n",
        "## Evaluate Model's Accuracy on Test Data\n",
        "\n",
        "'''"
      ]
    },
    {
      "cell_type": "code",
      "metadata": {
        "id": "_H9DrTvQG5rV",
        "colab": {
          "base_uri": "https://localhost:8080/"
        },
        "outputId": "a70089a5-b16c-4e8f-8f45-8dccff42f710"
      },
      "source": [
        "score = model.evaluate(X_test, Y_test)\n",
        "print('score')\n",
        "print(score)\n",
        "print('Test score:', score[0])\n",
        "print('Test accuracy:', score[1]) # Please, remember that *Accuracy* metric was chosen when model.compile() was invoked."
      ],
      "execution_count": null,
      "outputs": [
        {
          "output_type": "stream",
          "name": "stdout",
          "text": [
            "313/313 [==============================] - 1s 4ms/step - loss: 2.3010 - accuracy: 0.1135\n",
            "score\n",
            "[2.301013708114624, 0.11349999904632568]\n",
            "Test score: 2.301013708114624\n",
            "Test accuracy: 0.11349999904632568\n"
          ]
        }
      ]
    },
    {
      "cell_type": "markdown",
      "metadata": {
        "id": "3Jp1W9CXG8WF"
      },
      "source": [
        "''' \n",
        "\n",
        "### Inspecting the output\n",
        "\n",
        "'''"
      ]
    },
    {
      "cell_type": "code",
      "metadata": {
        "id": "uVeSBrSPHFz6"
      },
      "source": [
        "################################################\n",
        "# The predict_classes function outputs the highest probability class\n",
        "# according to the trained classifier for each input example.\n",
        "# Old version code # predicted_classes = model.predict_classes(X_test)\n",
        "# \n",
        "# np.armax looks for the index of the max value in each row ot the \n",
        "# [number.of.X_test.rows x 10] matrix (returned by model.predict)\n",
        "# axis=-1 means that max search is performed row-wise\n",
        "predicted_classes = np.argmax(model.predict(X_test), axis=-1)\n",
        "\n",
        "# Check which items we got right / wrong\n",
        "# np.nonzero return the indices of the elements that are non-zero.\n",
        "correct_indices = np.nonzero(predicted_classes == y_test)[0]\n",
        "\n",
        "incorrect_indices = np.nonzero(predicted_classes != y_test)[0]"
      ],
      "execution_count": null,
      "outputs": []
    },
    {
      "cell_type": "code",
      "metadata": {
        "id": "pDwV5v9nHIg3",
        "colab": {
          "base_uri": "https://localhost:8080/",
          "height": 577
        },
        "outputId": "d0b18713-8431-475d-d0f3-6bba97cac568"
      },
      "source": [
        "################################################\n",
        "# Showing figures for both correctly and not correctly classified ones  \n",
        "plt.figure()\n",
        "for i, correct in enumerate(correct_indices[:9]):\n",
        "    plt.subplot(3,3,i+1)\n",
        "    plt.imshow(X_test[correct].reshape(28,28), cmap='gray', interpolation='none')\n",
        "    plt.title(\"Predicted {}, Class {}\".format(predicted_classes[correct], y_test[correct]))\n",
        "    \n",
        "plt.tight_layout()\n",
        "    \n",
        "plt.figure()\n",
        "for i, incorrect in enumerate(incorrect_indices[:9]):\n",
        "    plt.subplot(3,3,i+1)\n",
        "    plt.imshow(X_test[incorrect].reshape(28,28), cmap='gray', interpolation='none')\n",
        "    plt.title(\"Predicted {}, Class {}\".format(predicted_classes[incorrect], y_test[incorrect]))\n",
        "    \n",
        "plt.tight_layout()"
      ],
      "execution_count": null,
      "outputs": [
        {
          "output_type": "display_data",
          "data": {
            "text/plain": [
              "<Figure size 432x288 with 9 Axes>"
            ],
            "image/png": "[encoded data removed]"
          },
          "metadata": {
            "needs_background": "light"
          }
        },
        {
          "output_type": "display_data",
          "data": {
            "text/plain": [
              "<Figure size 432x288 with 9 Axes>"
            ],
            "image/png": "[encoded data removed]"
          },
          "metadata": {
            "needs_background": "light"
          }
        }
      ]
    },
    {
      "cell_type": "markdown",
      "metadata": {
        "id": "Sn3-tQZCHK0h"
      },
      "source": [
        "'''\n",
        "\n",
        "# Experimenting with the Batch Sizes!\n",
        "\n",
        "\n",
        "'''"
      ]
    },
    {
      "cell_type": "code",
      "metadata": {
        "id": "bkWVoz8ypKob",
        "colab": {
          "base_uri": "https://localhost:8080/"
        },
        "outputId": "069c8f14-196e-4e86-e51c-eaf8382006fa"
      },
      "source": [
        "################################################\n",
        "# How does increasing the batch size to 10'000 \n",
        "# affect the training time and test accuracy?\n",
        "model.fit(X_train, Y_train,\n",
        "          batch_size=10000, epochs=5,\n",
        "          verbose=1)\n",
        "score = model.evaluate(X_test, Y_test)\n",
        "print('Test score:', score[0])\n",
        "print('Test accuracy:', score[1])"
      ],
      "execution_count": null,
      "outputs": [
        {
          "output_type": "stream",
          "name": "stdout",
          "text": [
            "Epoch 1/5\n",
            "6/6 [==============================] - 4s 674ms/step - loss: 2.3012 - accuracy: 0.1124\n",
            "Epoch 2/5\n",
            "6/6 [==============================] - 4s 682ms/step - loss: 2.3015 - accuracy: 0.1124\n",
            "Epoch 3/5\n",
            "6/6 [==============================] - 4s 665ms/step - loss: 2.3013 - accuracy: 0.1124\n",
            "Epoch 4/5\n",
            "6/6 [==============================] - 4s 662ms/step - loss: 2.3011 - accuracy: 0.1123\n",
            "Epoch 5/5\n",
            "6/6 [==============================] - 4s 672ms/step - loss: 2.3013 - accuracy: 0.1124\n",
            "313/313 [==============================] - 1s 4ms/step - loss: 2.3010 - accuracy: 0.1135\n",
            "Test score: 2.301018714904785\n",
            "Test accuracy: 0.11349999904632568\n"
          ]
        }
      ]
    },
    {
      "cell_type": "code",
      "metadata": {
        "id": "fA1sa7YkplxM",
        "colab": {
          "base_uri": "https://localhost:8080/",
          "height": 53
        },
        "outputId": "f43701dd-5e17-453d-bb06-ce44b69a9458"
      },
      "source": [
        "################################################\n",
        "# How about a batch size of 32?\n",
        "''' # It's commented because it takes 3 minutes\n",
        "model.fit(X_train, Y_train,\n",
        "          batch_size=32, epochs=5,\n",
        "          verbose=1)\n",
        "score = model.evaluate(X_test, Y_test)\n",
        "print('Test score:', score[0])\n",
        "print('Test accuracy:', score[1])\n",
        "'''"
      ],
      "execution_count": null,
      "outputs": [
        {
          "output_type": "execute_result",
          "data": {
            "text/plain": [
              "\" # It's commented because it takes 3 minutes\\nmodel.fit(X_train, Y_train,\\n          batch_size=32, epochs=5,\\n          verbose=1)\\nscore = model.evaluate(X_test, Y_test)\\nprint('Test score:', score[0])\\nprint('Test accuracy:', score[1])\\n\""
            ],
            "application/vnd.google.colaboratory.intrinsic+json": {
              "type": "string"
            }
          },
          "metadata": {},
          "execution_count": 19
        }
      ]
    },
    {
      "cell_type": "markdown",
      "metadata": {
        "id": "ZS7Yh-fpHfNl"
      },
      "source": [
        "'''\n",
        "\n",
        "# Building a (not-so) Deep Convolutional Neural Network\n",
        "\n",
        "'''"
      ]
    },
    {
      "cell_type": "markdown",
      "metadata": {
        "id": "Qn7hwzNJsKok"
      },
      "source": [
        "'''\n",
        "Before, we built a network that accepts the normalized pixel values of each value and operates soley on those values. What if we could instead feed different features (e.g. **curvature, edges**) of each image into a network, and have the network learn which features are important for classifying an image?\n",
        "\n",
        "This possible through convolution! Convolution applies **kernels** (filters) that traverse through each image and generate **feature maps**.\n",
        "\n",
        "![Convolution Animation](https://github.com/AviatorMoser/keras-mnist-tutorial/blob/master/convolution.gif?raw=true)\n",
        "\n",
        "In the above example, the image is a 5 x 5 matrix and the kernel going over it is a 3 x 3 matrix. A dot product operation is executed between the image and the kernel and the convolved feature is generated. Each kernel in a CNN learns a different characteristic of an image.\n",
        "\n",
        "Kernels are often used in photoediting software to apply blurring, edge detection, sharpening, etc.\n",
        "\n",
        "![kernels](https://github.com/AviatorMoser/keras-mnist-tutorial/blob/master/kernels.png?raw=true)\n",
        "\n",
        "Kernels in deep learning networks are used in similar ways, i.e. highlighting some feature. Combined with a system called **max pooling**, the non-highlighted elements are discarded from each feature map, leaving only the features of interest, reducing the number of learned parameters, and decreasing the computational cost (e.g. system memory).\n",
        "\n",
        "![Max Pooling](https://github.com/AviatorMoser/keras-mnist-tutorial/blob/master/max_pooling.png?raw=true)\n",
        "\n",
        "\n",
        "'''"
      ]
    },
    {
      "cell_type": "markdown",
      "metadata": {
        "id": "oUZBWXgLuU2R"
      },
      "source": [
        "We can also take convolutions of convolutions -- we can stack as many convolutions as we want, as long as there are enough pixels to fit a kernel.\n",
        "\n",
        "![Multiple Convolutions](https://drive.google.com/uc?export=download&id=1AHADfc7E_Ud0t3pUYgYzATcaTMycaIBz)"
      ]
    },
    {
      "cell_type": "markdown",
      "metadata": {
        "id": "foiIop5ks4yN"
      },
      "source": [
        "## Building a (not-so)-Deep Artificial Neural Network"
      ]
    },
    {
      "cell_type": "code",
      "metadata": {
        "id": "3XHQfoj7te-o",
        "colab": {
          "base_uri": "https://localhost:8080/"
        },
        "outputId": "641f4624-11f6-4153-d65a-e63710dce706"
      },
      "source": [
        "##########################\n",
        "# Loading the required libraries\n",
        "\n",
        "import numpy as np                   # Advanced math library\n",
        "import matplotlib.pyplot as plt      # To plot data\n",
        "import random                        # Library for random numbers\n",
        "\n",
        "# Keras library an d its highly abstract API will be used as front-end for programming Neural Networks\n",
        "# Tensor flow will be used by Keras as back-end\n",
        "\n",
        "import tensorflow as tf              # Library for low level neural network management\n",
        "\n",
        "from keras.datasets import mnist     # MNIST dataset is included in Keras\n",
        "from keras.models import Sequential  # Neural Network Model type \n",
        "\n",
        "from keras.layers.core import Dense, Dropout, Activation # Types of Neural Network Layers\n",
        "from keras.layers import Conv2D, MaxPooling2D, Flatten\n",
        "\n",
        "from keras.utils import np_utils     # Keras tools for dealing with NumPy\n",
        "\n",
        "from IPython.display import IFrame   # to produce nice outputs and to embed web sites in notebooks\n",
        "from keras.models import load_model  # To load model (weights) previously saved\n",
        "\n",
        "from keras.utils.data_utils import get_file\n",
        "import os\n",
        "\n",
        "##############\n",
        "# Installing and importing the \n",
        "# Keract visualization library\n",
        "!pip install keract\n",
        "from keract import get_activations, display_activations"
      ],
      "execution_count": null,
      "outputs": [
        {
          "output_type": "stream",
          "name": "stdout",
          "text": [
            "Collecting keract\n",
            "  Downloading keract-4.5.0-py2.py3-none-any.whl (12 kB)\n",
            "Installing collected packages: keract\n",
            "Successfully installed keract-4.5.0\n"
          ]
        }
      ]
    },
    {
      "cell_type": "code",
      "metadata": {
        "id": "gFOPwtSGbvzs",
        "colab": {
          "base_uri": "https://localhost:8080/"
        },
        "outputId": "06e0ec5e-d0a8-4c17-f3b4-675af732f0e0"
      },
      "source": [
        "################################################\n",
        "print('Loading and formatting again the MNIST data')\n",
        "\n",
        "def getMNIST(\n",
        "    num_classes = 10 # number of unique digits\n",
        "):\n",
        "  '''Again, do some formatting. Except we do not flatten each image into \n",
        "     a 784-length vector because we want to perform \n",
        "     convolutions first\n",
        "     '''\n",
        "\n",
        "  # Loading (again) MNIST dataset\n",
        "  (X_train, y_train), (X_test, y_test) = mnist.load_data()\n",
        "\n",
        "  #  Again, do some formatting\n",
        "  # Except we do not flatten each image. \n",
        "  # Rather we produce a tensor having the shape\n",
        "  # required by convolutional layers:\n",
        "  # [num_of_images, image_width, image_length, channel_size].\n",
        "  # The channel_size=1 since we have black and white images.\n",
        "  # If we had color images, then channel_size=3, one channel for each\n",
        "  # of the RGB colors i.e., Red, Green, Blue, the basic colors upon which \n",
        "  # all the others can be built\n",
        "\n",
        "  #The last one is a single dimension to represent the single-channel (pixel gray-scale value)\n",
        "  X_train = X_train.reshape(60000, 28, 28, 1) \n",
        "  X_test = X_test.reshape(10000, 28, 28, 1)\n",
        "\n",
        "  # change integers to 32-bit floating point numbers\n",
        "  X_train = X_train.astype('float32')         \n",
        "  X_test = X_test.astype('float32')\n",
        "\n",
        "  # normalize each value for each pixel for the entire vector for each input\n",
        "  X_train /= 255                              \n",
        "  X_test /= 255\n",
        "  # one-hot encoding of y\n",
        "\n",
        "  # one-hot encoding of y\n",
        "  Y_train = np_utils.to_categorical(y_train, num_classes)\n",
        "  Y_test = np_utils.to_categorical(y_test, num_classes)\n",
        "\n",
        "  return X_train, Y_train, X_test, Y_test\n",
        "\n",
        "X_train, Y_train, X_test, Y_test = getMNIST()\n",
        "print(\"Training matrix shape\", X_train.shape)\n",
        "print(\"Testing matrix shape\", X_test.shape)\n"
      ],
      "execution_count": null,
      "outputs": [
        {
          "output_type": "stream",
          "name": "stdout",
          "text": [
            "Loading and formatting again the MNIST data\n",
            "Training matrix shape (60000, 28, 28, 1)\n",
            "Testing matrix shape (10000, 28, 28, 1)\n"
          ]
        }
      ]
    },
    {
      "cell_type": "code",
      "metadata": {
        "id": "W_RMJP4p06on"
      },
      "source": [
        "###########################################\n",
        "# Function to download an already trained model')\n",
        "\n",
        "#from keras.utils.data_utils import get_file\n",
        "#import os\n",
        "def downloadTrainedModel(modelName, gdriveID):\n",
        "  '''The file will be retrieved from google drive and saved in the local directory.\n",
        "     - modelName: the file name to be used to store locally the trained model content\n",
        "     - gdriveID: the Google Drive Public Document ID '''\n",
        "  url='https://docs.google.com/uc?export=download&id={id}'.format(id=gdriveID)\n",
        "  currentDir = os.getcwd() # get current working directory\n",
        "  destinationPath = os.path.join( currentDir, modelName  )\n",
        "  effectivePath = get_file(\n",
        "            destinationPath, # file name \n",
        "            url # url\n",
        "            )\n",
        "  print('Model saved in '+effectivePath)\n",
        "  return effectivePath\n",
        "\n",
        "# This will be used later"
      ],
      "execution_count": null,
      "outputs": []
    },
    {
      "cell_type": "code",
      "metadata": {
        "id": "Sl037C5ktAn1",
        "colab": {
          "base_uri": "https://localhost:8080/"
        },
        "outputId": "5574422f-d004-4339-e70f-6c713e386a64"
      },
      "source": [
        "##############\n",
        "# Create the Artificial Neural Network\n",
        "\n",
        "no_classes=10\n",
        "\n",
        "model = Sequential()\n",
        "model.add(Conv2D(6, kernel_size=(5, 5), \n",
        "                 activation='relu', \n",
        "                 input_shape=(28,28,1) ))\n",
        "model.add(MaxPooling2D(pool_size=(2, 2)))\n",
        "model.add(Conv2D(10, kernel_size=(5, 5), activation='relu'))\n",
        "model.add(Flatten())\n",
        "model.add(Dense(256, activation='relu'))\n",
        "model.add(Dense(no_classes, activation='softmax'))\n",
        "\n",
        "model.summary()"
      ],
      "execution_count": null,
      "outputs": [
        {
          "output_type": "stream",
          "name": "stdout",
          "text": [
            "Model: \"sequential_1\"\n",
            "_________________________________________________________________\n",
            " Layer (type)                Output Shape              Param #   \n",
            "=================================================================\n",
            " conv2d (Conv2D)             (None, 24, 24, 6)         156       \n",
            "                                                                 \n",
            " max_pooling2d (MaxPooling2D  (None, 12, 12, 6)        0         \n",
            " )                                                               \n",
            "                                                                 \n",
            " conv2d_1 (Conv2D)           (None, 8, 8, 10)          1510      \n",
            "                                                                 \n",
            " flatten (Flatten)           (None, 640)               0         \n",
            "                                                                 \n",
            " dense_3 (Dense)             (None, 256)               164096    \n",
            "                                                                 \n",
            " dense_4 (Dense)             (None, 10)                2570      \n",
            "                                                                 \n",
            "=================================================================\n",
            "Total params: 168,332\n",
            "Trainable params: 168,332\n",
            "Non-trainable params: 0\n",
            "_________________________________________________________________\n"
          ]
        }
      ]
    },
    {
      "cell_type": "code",
      "metadata": {
        "id": "g05zulvktAre"
      },
      "source": [
        "##############\n",
        "# Compiling the model.\n",
        "# Using again the adam optimizer\n",
        "model.compile(\n",
        "    loss='categorical_crossentropy', \n",
        "    optimizer='adam', \n",
        "    metrics=['accuracy']\n",
        "    )"
      ],
      "execution_count": null,
      "outputs": []
    },
    {
      "cell_type": "code",
      "metadata": {
        "id": "ghsVXEMOtAlN",
        "colab": {
          "base_uri": "https://localhost:8080/"
        },
        "outputId": "f6f83ebc-6741-4e5c-c511-439baef34293"
      },
      "source": [
        "##############\n",
        "# Fit the model i.e., training the Artificial Neural Network\n",
        "\n",
        "batch_size = 250\n",
        "no_epochs = 25\n",
        "#no_classes = 10\n",
        "verbosity = 1\n",
        "validation_split = 0.2\n",
        "\n",
        "model.fit(X_train, Y_train,\n",
        "          batch_size=batch_size,\n",
        "          epochs=no_epochs,\n",
        "          verbose=verbosity,\n",
        "          validation_split=validation_split)\n"
      ],
      "execution_count": null,
      "outputs": [
        {
          "output_type": "stream",
          "name": "stdout",
          "text": [
            "Epoch 1/25\n",
            "192/192 [==============================] - 32s 161ms/step - loss: 0.4104 - accuracy: 0.8859 - val_loss: 0.1574 - val_accuracy: 0.9537\n",
            "Epoch 2/25\n",
            "192/192 [==============================] - 18s 94ms/step - loss: 0.1286 - accuracy: 0.9610 - val_loss: 0.0965 - val_accuracy: 0.9733\n",
            "Epoch 3/25\n",
            "192/192 [==============================] - 18s 93ms/step - loss: 0.0836 - accuracy: 0.9749 - val_loss: 0.0719 - val_accuracy: 0.9795\n",
            "Epoch 4/25\n",
            "192/192 [==============================] - 18s 93ms/step - loss: 0.0631 - accuracy: 0.9807 - val_loss: 0.0668 - val_accuracy: 0.9791\n",
            "Epoch 5/25\n",
            "192/192 [==============================] - 18s 94ms/step - loss: 0.0536 - accuracy: 0.9836 - val_loss: 0.0567 - val_accuracy: 0.9823\n",
            "Epoch 6/25\n",
            "192/192 [==============================] - 18s 94ms/step - loss: 0.0433 - accuracy: 0.9871 - val_loss: 0.0538 - val_accuracy: 0.9838\n",
            "Epoch 7/25\n",
            "192/192 [==============================] - 20s 104ms/step - loss: 0.0370 - accuracy: 0.9886 - val_loss: 0.0505 - val_accuracy: 0.9847\n",
            "Epoch 8/25\n",
            "192/192 [==============================] - 18s 94ms/step - loss: 0.0322 - accuracy: 0.9900 - val_loss: 0.0532 - val_accuracy: 0.9829\n",
            "Epoch 9/25\n",
            "192/192 [==============================] - 18s 95ms/step - loss: 0.0285 - accuracy: 0.9910 - val_loss: 0.0474 - val_accuracy: 0.9866\n",
            "Epoch 10/25\n",
            "192/192 [==============================] - 18s 95ms/step - loss: 0.0244 - accuracy: 0.9923 - val_loss: 0.0443 - val_accuracy: 0.9868\n",
            "Epoch 11/25\n",
            "192/192 [==============================] - 18s 95ms/step - loss: 0.0199 - accuracy: 0.9938 - val_loss: 0.0445 - val_accuracy: 0.9872\n",
            "Epoch 12/25\n",
            "192/192 [==============================] - 18s 95ms/step - loss: 0.0186 - accuracy: 0.9941 - val_loss: 0.0521 - val_accuracy: 0.9850\n",
            "Epoch 13/25\n",
            "192/192 [==============================] - 18s 95ms/step - loss: 0.0166 - accuracy: 0.9948 - val_loss: 0.0533 - val_accuracy: 0.9848\n",
            "Epoch 14/25\n",
            "192/192 [==============================] - 18s 96ms/step - loss: 0.0146 - accuracy: 0.9953 - val_loss: 0.0501 - val_accuracy: 0.9866\n",
            "Epoch 15/25\n",
            "192/192 [==============================] - 18s 95ms/step - loss: 0.0116 - accuracy: 0.9964 - val_loss: 0.0437 - val_accuracy: 0.9883\n",
            "Epoch 16/25\n",
            "192/192 [==============================] - 18s 95ms/step - loss: 0.0105 - accuracy: 0.9967 - val_loss: 0.0483 - val_accuracy: 0.9880\n",
            "Epoch 17/25\n",
            "192/192 [==============================] - 18s 95ms/step - loss: 0.0088 - accuracy: 0.9972 - val_loss: 0.0539 - val_accuracy: 0.9866\n",
            "Epoch 18/25\n",
            "192/192 [==============================] - 18s 96ms/step - loss: 0.0072 - accuracy: 0.9979 - val_loss: 0.0553 - val_accuracy: 0.9868\n",
            "Epoch 19/25\n",
            "192/192 [==============================] - 18s 96ms/step - loss: 0.0074 - accuracy: 0.9975 - val_loss: 0.0544 - val_accuracy: 0.9867\n",
            "Epoch 20/25\n",
            "192/192 [==============================] - 18s 96ms/step - loss: 0.0061 - accuracy: 0.9982 - val_loss: 0.0525 - val_accuracy: 0.9885\n",
            "Epoch 21/25\n",
            "192/192 [==============================] - 18s 96ms/step - loss: 0.0069 - accuracy: 0.9979 - val_loss: 0.0564 - val_accuracy: 0.9873\n",
            "Epoch 22/25\n",
            "192/192 [==============================] - 19s 97ms/step - loss: 0.0064 - accuracy: 0.9980 - val_loss: 0.0591 - val_accuracy: 0.9850\n",
            "Epoch 23/25\n",
            "192/192 [==============================] - 19s 97ms/step - loss: 0.0057 - accuracy: 0.9980 - val_loss: 0.0527 - val_accuracy: 0.9885\n",
            "Epoch 24/25\n",
            "192/192 [==============================] - 19s 97ms/step - loss: 0.0051 - accuracy: 0.9983 - val_loss: 0.0539 - val_accuracy: 0.9880\n",
            "Epoch 25/25\n",
            "192/192 [==============================] - 19s 96ms/step - loss: 0.0033 - accuracy: 0.9991 - val_loss: 0.0563 - val_accuracy: 0.9883\n"
          ]
        },
        {
          "output_type": "execute_result",
          "data": {
            "text/plain": [
              "<keras.callbacks.History at 0x7f3d5ee7c650>"
            ]
          },
          "metadata": {},
          "execution_count": 25
        }
      ]
    },
    {
      "cell_type": "markdown",
      "metadata": {
        "id": "9q1Ead9RRHtA"
      },
      "source": [
        "**Un esempio di output**\n",
        "\n",
        "Epoch 1/25\n",
        "192/192 [==============================] - 19s 99ms/step - loss: 0.4377 - accuracy: 0.8792 - val_loss: 0.1413 - val_accuracy: 0.9623\n",
        "\n",
        "Epoch 2/25\n",
        "192/192 [==============================] - 18s 96ms/step - loss: 0.1145 - accuracy: 0.9667 - val_loss: 0.0946 - val_accuracy: 0.9738\n",
        "\n",
        "Epoch 3/25\n",
        "192/192 [==============================] - 18s 95ms/step - loss: 0.0766 - accuracy: 0.9768 - val_loss: 0.0740 - val_accuracy: 0.9787\n",
        "\n",
        "Epoch 4/25\n",
        "192/192 [==============================] - 18s 96ms/step - loss: 0.0582 - accuracy: 0.9824 - val_loss: 0.0660 - val_accuracy: 0.9812\n",
        "\n",
        "...\n",
        "\n",
        "Epoch 23/25\n",
        "192/192 [==============================] - 19s 100ms/step - loss: 0.0047 - accuracy: 0.9986 - val_loss: 0.0585 - val_accuracy: 0.9877\n",
        "\n",
        "Epoch 24/25\n",
        "192/192 [==============================] - 19s 100ms/step - loss: 0.0037 - accuracy: 0.9987 - val_loss: 0.0533 - val_accuracy: 0.9887\n",
        "\n",
        "Epoch 25/25\n",
        "192/192 [==============================] - 19s 99ms/step - loss: 0.0030 - accuracy: 0.9991 - val_loss: 0.0579 - val_accuracy: 0.9890"
      ]
    },
    {
      "cell_type": "markdown",
      "metadata": {
        "id": "l0FWx5ZJu6bO"
      },
      "source": [
        "Prima di testare i risultati, salviamo il modello e lo recuperiamo memorizandolo in una nuova variabile"
      ]
    },
    {
      "cell_type": "code",
      "metadata": {
        "id": "0RL9_dtRtAjP",
        "colab": {
          "base_uri": "https://localhost:8080/"
        },
        "outputId": "45bfbf85-8f0d-44b5-c36c-3416aae78d7a"
      },
      "source": [
        "###########################################\n",
        "print('Saving the just trained model to file')\n",
        "#import os\n",
        "modelFileName='my_model_mini_conv_net.h5'\n",
        "if not os.path.exists(modelFileName):\n",
        "  model.save(modelFileName)\n",
        "  print('Model saved in '+modelFileName)\n",
        "else:\n",
        "  print('File already existing '+modelFileName)\n",
        "  # The latter to prevent overwriting an existing file"
      ],
      "execution_count": null,
      "outputs": [
        {
          "output_type": "stream",
          "name": "stdout",
          "text": [
            "Saving the just trained model to file\n",
            "Model saved in my_model_mini_conv_net.h5\n"
          ]
        }
      ]
    },
    {
      "cell_type": "code",
      "metadata": {
        "id": "NibgexaQufIc"
      },
      "source": [
        "###########################################\n",
        "# Copy the saved model to a safer place\n",
        "\n",
        "# When the Virtual Machine is collected \n",
        "# (e.g., after some time of inactivity), \n",
        "# the File System is emptied. Therefore, \n",
        "# you would like to copy the model\n",
        "# to a more permanent file system.\n",
        "\n",
        "# If you would like to copy your saved model \n",
        "# to your gdrive, please uncomment the code below \n",
        "# and follow the instructions.\n",
        "'''\n",
        "#### Mounting google drive on the File System of the Machine running colab\n",
        "## If required, please login to google drive and copy & paste the authentication token\n",
        "from google.colab import drive\n",
        "drive.mount('/content/drive', force_remount=True)\n",
        "!cp my_model_mini_conv_net.h5 '/content/drive/My Drive/Colab Notebooks/'\n",
        "''';"
      ],
      "execution_count": null,
      "outputs": []
    },
    {
      "cell_type": "code",
      "metadata": {
        "id": "0zn3dhsD4nx5",
        "colab": {
          "base_uri": "https://localhost:8080/"
        },
        "outputId": "be289e75-6015-41d5-cf4d-367cb66de6c8"
      },
      "source": [
        "###########################################\n",
        "print('Downloading already trained model')\n",
        "alreadyTrainedModelPath = downloadTrainedModel(\n",
        "    'model_mini_conv_net_v2.h5', # Model file name\n",
        "    '1soujvuSRSl-m46soUfyN149k6_Fracv_' # Google Drive Public Document ID\n",
        "    )\n",
        "\n",
        "# https://drive.google.com/file/d/1soujvuSRSl-m46soUfyN149k6_Fracv_/view?usp=sharing"
      ],
      "execution_count": null,
      "outputs": [
        {
          "output_type": "stream",
          "name": "stdout",
          "text": [
            "Downloading already trained model\n",
            "Downloading data from https://docs.google.com/uc?export=download&id=1soujvuSRSl-m46soUfyN149k6_Fracv_\n",
            "2064384/2060840 [==============================] - 0s 0us/step\n",
            "2072576/2060840 [==============================] - 0s 0us/step\n",
            "Model saved in /content/model_mini_conv_net_v2.h5\n"
          ]
        }
      ]
    },
    {
      "cell_type": "code",
      "metadata": {
        "id": "TrPPs8L1ufT6",
        "colab": {
          "base_uri": "https://localhost:8080/"
        },
        "outputId": "b07a1c11-e312-462f-c6a7-c1c27c3cccca"
      },
      "source": [
        "###########################################\n",
        "# Loading a previously saved model from the Colab File System\n",
        "\n",
        "# model_mini_conv_net_v2.h5 \n",
        "print('Loading '+alreadyTrainedModelPath)\n",
        "\n",
        "# Better to specify the file full path\n",
        "model2 = load_model(alreadyTrainedModelPath)\n",
        "model2.summary()"
      ],
      "execution_count": null,
      "outputs": [
        {
          "output_type": "stream",
          "name": "stdout",
          "text": [
            "Loading /content/model_mini_conv_net_v2.h5\n",
            "Model: \"sequential_2\"\n",
            "_________________________________________________________________\n",
            " Layer (type)                Output Shape              Param #   \n",
            "=================================================================\n",
            " conv2d_2 (Conv2D)           (None, 24, 24, 6)         156       \n",
            "                                                                 \n",
            " max_pooling2d_1 (MaxPooling  (None, 12, 12, 6)        0         \n",
            " 2D)                                                             \n",
            "                                                                 \n",
            " conv2d_3 (Conv2D)           (None, 8, 8, 10)          1510      \n",
            "                                                                 \n",
            " flatten_1 (Flatten)         (None, 640)               0         \n",
            "                                                                 \n",
            " dense_1 (Dense)             (None, 256)               164096    \n",
            "                                                                 \n",
            " dense_2 (Dense)             (None, 10)                2570      \n",
            "                                                                 \n",
            "=================================================================\n",
            "Total params: 168,332\n",
            "Trainable params: 168,332\n",
            "Non-trainable params: 0\n",
            "_________________________________________________________________\n"
          ]
        }
      ]
    },
    {
      "cell_type": "code",
      "metadata": {
        "id": "cZNDAwVjufZX",
        "colab": {
          "base_uri": "https://localhost:8080/"
        },
        "outputId": "c68bbbbb-28a2-4dfd-f245-05ed8ac14395"
      },
      "source": [
        "###########################################\n",
        "# Evaluation\n",
        "score = model2.evaluate(X_test, Y_test, verbose=0)\n",
        "print('Test score:', score[0])\n",
        "print('Test accuracy:', score[1]) # As it was specified at compile time"
      ],
      "execution_count": null,
      "outputs": [
        {
          "output_type": "stream",
          "name": "stdout",
          "text": [
            "Test score: 0.05212326720356941\n",
            "Test accuracy: 0.9872999787330627\n"
          ]
        }
      ]
    },
    {
      "cell_type": "code",
      "metadata": {
        "id": "DYNDXSawufSG"
      },
      "source": [
        "###########################################\n",
        "# Focusing on one image to inspect the neural network\n",
        "\n",
        "# select 1 image but preserving the 4d tensor shape\n",
        "singleImgX = X_test[:1] \n",
        "#print(X_test[:1].shape) # (1, 28, 28, 1)\n",
        "singleImgY = Y_test[:1]\n",
        "#print(Y_test[:1].shape) # (1, 10)\n",
        "\n",
        "activations = get_activations(model2, singleImgX)"
      ],
      "execution_count": null,
      "outputs": []
    },
    {
      "cell_type": "code",
      "metadata": {
        "id": "M4kDHx76ufQA",
        "colab": {
          "base_uri": "https://localhost:8080/"
        },
        "outputId": "14624611-db3c-4f7a-eeae-a6ec62221807"
      },
      "source": [
        "###########################################\n",
        "# Printing extracted layer information\n",
        "def getLayersInfo(activations):\n",
        "  # '{name:16} ' Space padding to 16 chars\n",
        "  st = '{name:16} {shape}\\n'.format(name='LAYER NAME', shape='TENSOR SHAPE')\n",
        "  #print('Layer_Name   tensor.shape')\n",
        "  for layerName, tensor in activations.items():\n",
        "    #print(layerName, tensor.shape)\n",
        "    #st+=layerName+'\\t'+str(tensor.shape)+'\\n'\n",
        "    st += '{name:16} {shape}\\n'.format(name=layerName, shape=str(tensor.shape))\n",
        "  st+='\\n'\n",
        "  return st\n",
        "\n",
        "# The kerakt library (the visualization framework) names the input layer adding '_input...' to the subsequent layer\n",
        "# If there are multple same-type-layers, keract adds a number to disambiguate\n",
        "layersInfo=getLayersInfo(activations)\n",
        "print(layersInfo) "
      ],
      "execution_count": null,
      "outputs": [
        {
          "output_type": "stream",
          "name": "stdout",
          "text": [
            "LAYER NAME       TENSOR SHAPE\n",
            "conv2d_2_input   (1, 28, 28, 1)\n",
            "conv2d_2         (1, 24, 24, 6)\n",
            "max_pooling2d_1  (1, 12, 12, 6)\n",
            "conv2d_3         (1, 8, 8, 10)\n",
            "flatten_1        (1, 640)\n",
            "dense_1          (1, 256)\n",
            "dense_2          (1, 10)\n",
            "\n",
            "\n"
          ]
        }
      ]
    },
    {
      "cell_type": "code",
      "metadata": {
        "id": "k2rgGDUEufMo"
      },
      "source": [
        "###########################################\n",
        "# Some useful function for later use\n",
        "\n",
        "# Function to show a sngle layer output\n",
        "def showLayer(activationDict, layerName, fig_size=(5,5)):\n",
        "  # building a dictionary with only one layer info\n",
        "  dic={layerName:activationDict[layerName]} \n",
        "  display_activations(dic, cmap=\"gray\", save=False, fig_size=fig_size) # fig_size used because default figure size is too large\n",
        "\n",
        "# The input layer name keeps chainging, \n",
        "# therefore a function to identify its name is helpful.\n",
        "def getInputLayerName(activations):\n",
        "  for layerName, tensor in activations.items():\n",
        "    if 'input' in layerName:\n",
        "      return layerName\n",
        "  return None\n"
      ],
      "execution_count": null,
      "outputs": []
    },
    {
      "cell_type": "code",
      "metadata": {
        "id": "-0UMM6tGtAgS",
        "colab": {
          "base_uri": "https://localhost:8080/",
          "height": 370
        },
        "outputId": "3cee3967-c98a-41ce-b0b6-e16953ebb062"
      },
      "source": [
        "###########################################\n",
        "# Showing the input\n",
        "\n",
        "print('Showing input (layer)')\n",
        "# Getting input layer name\n",
        "layerName = getInputLayerName(activations) \n",
        "\n",
        "# Showing the input layer as perceived \n",
        "# by processing the selected image\n",
        "showLayer(activations, layerName, fig_size=(5,5))"
      ],
      "execution_count": null,
      "outputs": [
        {
          "output_type": "stream",
          "name": "stdout",
          "text": [
            "Showing input (layer)\n",
            "conv2d_2_input (1, 28, 28, 1) \n"
          ]
        },
        {
          "output_type": "display_data",
          "data": {
            "text/plain": [
              "<Figure size 360x360 with 2 Axes>"
            ],
            "image/png": "[encoded data removed]"
          },
          "metadata": {
            "needs_background": "light"
          }
        }
      ]
    },
    {
      "cell_type": "code",
      "metadata": {
        "id": "CE6-1bTa88Ng",
        "colab": {
          "base_uri": "https://localhost:8080/",
          "height": 565
        },
        "outputId": "377cf8cd-40fc-4005-f787-7bf3e7e99a33"
      },
      "source": [
        "###########################################\n",
        "# Showing the 1st convolutional layer filters\n",
        "\n",
        "print('Showing the 6 convolutional filters')\n",
        "print()\n",
        "print(layersInfo) \n",
        "#conv2d_2 (1, 24, 24, 6) i.e., 6 filters 5x5, from a 28x28 pixels image, 24x24 different output can be obtained (24=28-5+1)\n",
        "layerName = 'conv2d_2'\n",
        "showLayer(activations, layerName, fig_size=(5,5))"
      ],
      "execution_count": null,
      "outputs": [
        {
          "output_type": "stream",
          "name": "stdout",
          "text": [
            "Showing the 6 convolutional filters\n",
            "\n",
            "LAYER NAME       TENSOR SHAPE\n",
            "conv2d_2_input   (1, 28, 28, 1)\n",
            "conv2d_2         (1, 24, 24, 6)\n",
            "max_pooling2d_1  (1, 12, 12, 6)\n",
            "conv2d_3         (1, 8, 8, 10)\n",
            "flatten_1        (1, 640)\n",
            "dense_1          (1, 256)\n",
            "dense_2          (1, 10)\n",
            "\n",
            "\n",
            "conv2d_2 (1, 24, 24, 6) \n"
          ]
        },
        {
          "output_type": "display_data",
          "data": {
            "text/plain": [
              "<Figure size 360x360 with 7 Axes>"
            ],
            "image/png": "[encoded data removed]"
          },
          "metadata": {
            "needs_background": "light"
          }
        }
      ]
    },
    {
      "cell_type": "markdown",
      "metadata": {
        "id": "16fR55OfSOUX"
      },
      "source": [
        "As you can see, the feature detected are:\n",
        "\n",
        "- horizontal lines e.g., the top of the seven, \n",
        "- the inner edges e.g., the slash (i.e., the oblique lines)\n",
        "  -- the conjunction points between two lines\n",
        "- ...\n",
        "\n",
        " The 6 filters detect different features of the input image."
      ]
    },
    {
      "cell_type": "code",
      "metadata": {
        "id": "9c6cCupS88K8",
        "colab": {
          "base_uri": "https://localhost:8080/",
          "height": 565
        },
        "outputId": "fb3d6be0-50dd-4a8c-8ab7-4311db00ac43"
      },
      "source": [
        "##########################################\n",
        "# Max pooling\n",
        "print('Focusing on max pooling')\n",
        "print()\n",
        "print(layersInfo) \n",
        "layerName = 'max_pooling2d_1'\n",
        "showLayer(activations, layerName, fig_size=(5,5))\n"
      ],
      "execution_count": null,
      "outputs": [
        {
          "output_type": "stream",
          "name": "stdout",
          "text": [
            "Focusing on max pooling\n",
            "\n",
            "LAYER NAME       TENSOR SHAPE\n",
            "conv2d_2_input   (1, 28, 28, 1)\n",
            "conv2d_2         (1, 24, 24, 6)\n",
            "max_pooling2d_1  (1, 12, 12, 6)\n",
            "conv2d_3         (1, 8, 8, 10)\n",
            "flatten_1        (1, 640)\n",
            "dense_1          (1, 256)\n",
            "dense_2          (1, 10)\n",
            "\n",
            "\n",
            "max_pooling2d_1 (1, 12, 12, 6) \n"
          ]
        },
        {
          "output_type": "display_data",
          "data": {
            "text/plain": [
              "<Figure size 360x360 with 7 Axes>"
            ],
            "image/png": "[encoded data removed]"
          },
          "metadata": {
            "needs_background": "light"
          }
        }
      ]
    },
    {
      "cell_type": "markdown",
      "metadata": {
        "id": "gTdRoBPNS0vz"
      },
      "source": [
        "Recall that the Max Pooling layer is used for downsampling, i.e., making the image smaller with (preferably) limited information loss. You can see this happening when you compare the visualization of the Max Pooling layer with the Conv2D one above: the activations learnt by the convolutional layer persist, but they get blocky and the total images get smaller (from 24x24 to 12x12). "
      ]
    },
    {
      "cell_type": "code",
      "metadata": {
        "id": "vbCvHmNW88Ix",
        "colab": {
          "base_uri": "https://localhost:8080/",
          "height": 749
        },
        "outputId": "93e876e6-fc43-45e8-dd57-c85a064bdd50"
      },
      "source": [
        "##########################################\n",
        "# 2nd Convolutiona Layer\n",
        "print('Focusing on the second Convolutional Layer')\n",
        "print()\n",
        "print(layersInfo) \n",
        "#conv2d_3 (1, 8, 8, 10)\n",
        "layerName = 'conv2d_3'\n",
        "showLayer(activations, layerName, fig_size=(8,8))"
      ],
      "execution_count": null,
      "outputs": [
        {
          "output_type": "stream",
          "name": "stdout",
          "text": [
            "Focusing on the second Convolutional Layer\n",
            "\n",
            "LAYER NAME       TENSOR SHAPE\n",
            "conv2d_2_input   (1, 28, 28, 1)\n",
            "conv2d_2         (1, 24, 24, 6)\n",
            "max_pooling2d_1  (1, 12, 12, 6)\n",
            "conv2d_3         (1, 8, 8, 10)\n",
            "flatten_1        (1, 640)\n",
            "dense_1          (1, 256)\n",
            "dense_2          (1, 10)\n",
            "\n",
            "\n",
            "conv2d_3 (1, 8, 8, 10) \n"
          ]
        },
        {
          "output_type": "display_data",
          "data": {
            "text/plain": [
              "<Figure size 576x576 with 13 Axes>"
            ],
            "image/png": "[encoded data removed]"
          },
          "metadata": {
            "needs_background": "light"
          }
        }
      ]
    },
    {
      "cell_type": "markdown",
      "metadata": {
        "id": "8BJVeT7MSm4w"
      },
      "source": [
        "Here, ten high level features patterns are detect in the image. Even if they are more complex, you can still detect how they activate for the number seven."
      ]
    },
    {
      "cell_type": "code",
      "metadata": {
        "id": "8BfqN3Vp88GW",
        "colab": {
          "base_uri": "https://localhost:8080/",
          "height": 536
        },
        "outputId": "97105a8e-6016-4eb6-d805-726e0e1a29be"
      },
      "source": [
        "##########################################\n",
        "# \n",
        "print('Focusing on the output before softmax')\n",
        "print()\n",
        "print(layersInfo) \n",
        "layerName = 'dense_2'\n",
        "showLayer(activations, layerName, fig_size=(4,4))\n",
        "\n",
        "print('Target variable')\n",
        "print(singleImgY)"
      ],
      "execution_count": null,
      "outputs": [
        {
          "output_type": "stream",
          "name": "stdout",
          "text": [
            "Focusing on the output before softmax\n",
            "\n",
            "LAYER NAME       TENSOR SHAPE\n",
            "conv2d_2_input   (1, 28, 28, 1)\n",
            "conv2d_2         (1, 24, 24, 6)\n",
            "max_pooling2d_1  (1, 12, 12, 6)\n",
            "conv2d_3         (1, 8, 8, 10)\n",
            "flatten_1        (1, 640)\n",
            "dense_1          (1, 256)\n",
            "dense_2          (1, 10)\n",
            "\n",
            "\n",
            "dense_2 (1, 10) \n"
          ]
        },
        {
          "output_type": "display_data",
          "data": {
            "text/plain": [
              "<Figure size 288x288 with 2 Axes>"
            ],
            "image/png": "[encoded data removed]"
          },
          "metadata": {
            "needs_background": "light"
          }
        },
        {
          "output_type": "stream",
          "name": "stdout",
          "text": [
            "Target variable\n",
            "[[0. 0. 0. 0. 0. 0. 0. 1. 0. 0.]]\n"
          ]
        }
      ]
    },
    {
      "cell_type": "markdown",
      "metadata": {
        "id": "EVFUVfBUTnKy"
      },
      "source": [
        "It is the output of a flat layer therefore it is an array, visually represented as dots on a line segment. It is also the output of a softmax function (i.e., all 10 outputs values sums up to 1). \n",
        "The most high value will be selected as the prediction. Please, remember that in the target variable, output refers to respectively digit 0, 1, ..., 9. In this output, **the predicted output is successful**, since it matches the 7 position."
      ]
    },
    {
      "cell_type": "markdown",
      "metadata": {
        "id": "QOPsucvdMmQb"
      },
      "source": [
        "## Using a Toy Image"
      ]
    },
    {
      "cell_type": "code",
      "metadata": {
        "id": "BNz7p63M87_d",
        "colab": {
          "base_uri": "https://localhost:8080/"
        },
        "outputId": "0a016487-1bf6-4a04-a0a5-4ee8396fe23c"
      },
      "source": [
        "########################\n",
        "# Creating a toy image to test the convolutional layers\n",
        "#print(img)\n",
        "st=\"\"\"\n",
        "0000000000001110011100000000\n",
        "0000000000001110001110000000\n",
        "0000000000001110000111000000\n",
        "1111111110001110000011100000\n",
        "1111111110001110000001110000\n",
        "1111111110001110000000111000\n",
        "0000000000001110000000011100\n",
        "0000000000001110000000001110\n",
        "0000000000001110000000000011\n",
        "0000000111000000000000000000\n",
        "0000001110011100001110000011\n",
        "0000011100011100000111000111\n",
        "0000111000011100000011101110\n",
        "0001110011111111100001111100\n",
        "0011100011111111100000111000\n",
        "0111000011111111100001111100\n",
        "1110000000011100000011101110\n",
        "1100000000011100000111000111\n",
        "0000000000011100001110000011\n",
        "0001110000000000000000000000\n",
        "0011111000011111111111000111\n",
        "0110001100011111111111000111\n",
        "1100000110000000000000001110\n",
        "1100000110000000000000011110\n",
        "1100000110000000000001111000\n",
        "0110001100000000000111100000\n",
        "0011111000000000111100000000\n",
        "0001110000000001110000000000\"\"\"\n",
        "st=st.strip('\\n') # removing first carriage return\n",
        "stli=st.split('\\n')\n",
        "#print(stli)\n",
        "nda = np.zeros((28,28), dtype=int)\n",
        "for ii in range(28):\n",
        "  for jj in range(28):\n",
        "    if stli[ii][jj]=='1': # list of lists\n",
        "      nda[ii, jj]=1 # numpy ndarray (i.e., ndimensional array)\n",
        "\n",
        "#print(nda.shape) # (28, 28)\n",
        "#plt.imshow(nda, cmap='gray', interpolation='none')\n",
        "\n",
        "# Reshaping to a 4d tensor, as required by the network\n",
        "toyImage = nda.reshape( (1, 28, 28, 1) )\n",
        "print(toyImage.shape) # (1, 28, 28, 1)"
      ],
      "execution_count": null,
      "outputs": [
        {
          "output_type": "stream",
          "name": "stdout",
          "text": [
            "(1, 28, 28, 1)\n"
          ]
        }
      ]
    },
    {
      "cell_type": "code",
      "metadata": {
        "id": "o9I2071PNFAE"
      },
      "source": [
        "toyActivations = get_activations(model2, toyImage)"
      ],
      "execution_count": null,
      "outputs": []
    },
    {
      "cell_type": "code",
      "metadata": {
        "id": "I-sF6mgSOf4o",
        "colab": {
          "base_uri": "https://localhost:8080/",
          "height": 190
        },
        "outputId": "fa3acb85-7a93-45bd-bd20-e490edea614b"
      },
      "source": [
        "###########################################\n",
        "print('Showing input (layer)')\n",
        "# Getting input layer name\n",
        "layerName = getInputLayerName(toyActivations) \n",
        "\n",
        "# Showing the input layer as perceived \n",
        "# by processing the selected image\n",
        "showLayer(toyActivations, layerName, fig_size=(2,2))\n"
      ],
      "execution_count": null,
      "outputs": [
        {
          "output_type": "stream",
          "name": "stdout",
          "text": [
            "Showing input (layer)\n",
            "conv2d_2_input (1, 28, 28, 1) \n"
          ]
        },
        {
          "output_type": "display_data",
          "data": {
            "text/plain": [
              "<Figure size 144x144 with 2 Axes>"
            ],
            "image/png": "[encoded data removed]"
          },
          "metadata": {
            "needs_background": "light"
          }
        }
      ]
    },
    {
      "cell_type": "code",
      "metadata": {
        "id": "auUeI-VAOva8",
        "colab": {
          "base_uri": "https://localhost:8080/",
          "height": 356
        },
        "outputId": "e1a37feb-987b-425f-c731-afd3cec4e627"
      },
      "source": [
        "###########################################\n",
        "#print('Showing the 6 convolutional filters')\n",
        "showLayer(toyActivations, 'conv2d_2', fig_size=(5,5))"
      ],
      "execution_count": null,
      "outputs": [
        {
          "output_type": "stream",
          "name": "stdout",
          "text": [
            "conv2d_2 (1, 24, 24, 6) \n"
          ]
        },
        {
          "output_type": "display_data",
          "data": {
            "text/plain": [
              "<Figure size 360x360 with 7 Axes>"
            ],
            "image/png": "[encoded data removed]"
          },
          "metadata": {
            "needs_background": "light"
          }
        }
      ]
    },
    {
      "cell_type": "markdown",
      "metadata": {
        "id": "VEVhj_kvL7qu"
      },
      "source": [
        "# Working on a (little-bit) deeper Neural Network"
      ]
    },
    {
      "cell_type": "code",
      "metadata": {
        "id": "8Kh-Q-xgV2O1"
      },
      "source": [
        "################################################\n",
        "# import some additional libraries\n",
        "\n",
        "from keras.preprocessing.image import ImageDataGenerator\n",
        "from keras.layers import Conv2D, MaxPooling2D, ZeroPadding2D, GlobalAveragePooling2D, Flatten\n",
        "from keras.layers import BatchNormalization\n",
        "from keras.utils import np_utils \n",
        "from keras.datasets import mnist  \n"
      ],
      "execution_count": null,
      "outputs": []
    },
    {
      "cell_type": "code",
      "metadata": {
        "id": "xmaJs7jtWUlB",
        "colab": {
          "base_uri": "https://localhost:8080/"
        },
        "outputId": "db68f219-1500-4fb9-d09c-33c7e8eecc40"
      },
      "source": [
        "################################################\n",
        "print('Loading and formatting MNIST data')\n",
        "\n",
        "def getMNIST(\n",
        "    num_classes = 10 # number of unique digits\n",
        "):\n",
        "  '''Again, do some formatting. Except we do not flatten each image into \n",
        "     a 784-length vector because we want to perform \n",
        "     convolutions first\n",
        "     '''\n",
        "  (X_train, y_train), (X_test, y_test) = mnist.load_data()\n",
        "\n",
        "  X_train = X_train.reshape(60000, 28, 28, 1) #add an additional dimension to represent the single-channel\n",
        "  X_test = X_test.reshape(10000, 28, 28, 1)\n",
        "\n",
        "  X_train = X_train.astype('float32')         # change integers to 32-bit floating point numbers\n",
        "  X_test = X_test.astype('float32')\n",
        "\n",
        "  X_train /= 255                              # normalize each value for each pixel for the entire vector for each input\n",
        "  X_test /= 255\n",
        "  # one-hot encoding of y\n",
        "\n",
        "  # one-hot encoding of y\n",
        "  Y_train = np_utils.to_categorical(y_train, num_classes)\n",
        "  Y_test = np_utils.to_categorical(y_test, num_classes)\n",
        "\n",
        "  return X_train, Y_train, X_test, Y_test\n",
        "\n",
        "X_train, Y_train, X_test, Y_test = getMNIST()\n",
        "print(\"Training matrix shape\", X_train.shape)\n",
        "print(\"Testing matrix shape\", X_test.shape)\n"
      ],
      "execution_count": null,
      "outputs": [
        {
          "output_type": "stream",
          "name": "stdout",
          "text": [
            "Loading and formatting MNIST data\n",
            "Training matrix shape (60000, 28, 28, 1)\n",
            "Testing matrix shape (10000, 28, 28, 1)\n"
          ]
        }
      ]
    },
    {
      "cell_type": "code",
      "metadata": {
        "id": "vyLjr9etXijx"
      },
      "source": [
        "################################################\n",
        "# Designing the convolutional neural network\n",
        "\n",
        "model = Sequential()                                 # Linear stacking of layers\n",
        "\n",
        "# Convolution Layer 1\n",
        "model.add(Conv2D(32, (3, 3),                         # 32 different 3x3 kernels --> so 32 feature maps\n",
        "                 input_shape=(28,28,1)))             # Shape of the data given in input: 28x28 pixel, 1 channel (gray color only)\n",
        "                                                     # The very first layer needs information about the input\n",
        "                                                     \n",
        "model.add(BatchNormalization(axis=-1))               # Normalize each output feature before activation.\n",
        "                                                     # Optimal mean and sigma values are searched during training\n",
        "                                                     # considering only the batch data. \n",
        "                                                     # Batch normalisation allows much higher learning rates, \n",
        "                                                     # i.e., increasing the speed at which networks train. \n",
        "\n",
        "convLayer01 = Activation('relu')                     # activation layer (linear rectifier)\n",
        "model.add(convLayer01)                               # A reference to the last step of this layer is saved in a variable\n",
        "                                                     # so that it can be later retrieved e.g., for inspection  \n",
        "\n",
        "# Convolution Layer 2\n",
        "model.add(Conv2D(32, (3, 3)))                        # 32 different 3x3 kernels -- so 32 feature maps\n",
        "model.add(BatchNormalization(axis=-1))               # normalize each feature map before activation\n",
        "model.add(Activation('relu'))                        # activation\n",
        "convLayer02 = MaxPooling2D(pool_size=(2,2))          # Pool the max values over a 2x2 kernel\n",
        "model.add(convLayer02)\n",
        "\n",
        "# Convolution Layer 3\n",
        "model.add(Conv2D(64,(3, 3)))                         # 64 different 3x3 kernels -- so 64 feature maps\n",
        "model.add(BatchNormalization(axis=-1))               # normalize each feature map before activation\n",
        "convLayer03 = Activation('relu')                     # activation\n",
        "model.add(convLayer03)\n",
        "\n",
        "# Convolution Layer 4\n",
        "model.add(Conv2D(64, (3, 3)))                        # 64 different 3x3 kernels -- so 64 feature maps\n",
        "model.add(BatchNormalization(axis=-1))               # normalize each feature map before activation\n",
        "model.add(Activation('relu'))                        # activation\n",
        "convLayer04 = MaxPooling2D(pool_size=(2,2))          # Pool the max values over a 2x2 kernel\n",
        "model.add(convLayer04)\n",
        "model.add(Flatten())                                 # Flatten final 4x4x64 output matrix into a 1024-length vector\n",
        "\n",
        "# Fully Connected Layer 5\n",
        "model.add(Dense(512))                                # 512 FCN nodes\n",
        "model.add(BatchNormalization())                      # normalization\n",
        "model.add(Activation('relu'))                        # activation\n",
        "\n",
        "# Fully Connected Layer 6                       \n",
        "model.add(Dropout(0.2))                              # 20% dropout of randomly selected nodes\n",
        "model.add(Dense(10))                                 # final 10 FCN nodes\n",
        "model.add(Activation('softmax'))                     # softmax activation"
      ],
      "execution_count": null,
      "outputs": []
    },
    {
      "cell_type": "code",
      "metadata": {
        "id": "Djr1QG1fYKWH",
        "colab": {
          "base_uri": "https://localhost:8080/"
        },
        "outputId": "cba53426-4057-4162-c634-37e7e438dac8"
      },
      "source": [
        "################################################\n",
        "# Let's print the model summary\n",
        "model.summary()"
      ],
      "execution_count": null,
      "outputs": [
        {
          "output_type": "stream",
          "name": "stdout",
          "text": [
            "Model: \"sequential_2\"\n",
            "_________________________________________________________________\n",
            " Layer (type)                Output Shape              Param #   \n",
            "=================================================================\n",
            " conv2d_2 (Conv2D)           (None, 26, 26, 32)        320       \n",
            "                                                                 \n",
            " batch_normalization (BatchN  (None, 26, 26, 32)       128       \n",
            " ormalization)                                                   \n",
            "                                                                 \n",
            " activation_3 (Activation)   (None, 26, 26, 32)        0         \n",
            "                                                                 \n",
            " conv2d_3 (Conv2D)           (None, 24, 24, 32)        9248      \n",
            "                                                                 \n",
            " batch_normalization_1 (Batc  (None, 24, 24, 32)       128       \n",
            " hNormalization)                                                 \n",
            "                                                                 \n",
            " activation_4 (Activation)   (None, 24, 24, 32)        0         \n",
            "                                                                 \n",
            " max_pooling2d_1 (MaxPooling  (None, 12, 12, 32)       0         \n",
            " 2D)                                                             \n",
            "                                                                 \n",
            " conv2d_4 (Conv2D)           (None, 10, 10, 64)        18496     \n",
            "                                                                 \n",
            " batch_normalization_2 (Batc  (None, 10, 10, 64)       256       \n",
            " hNormalization)                                                 \n",
            "                                                                 \n",
            " activation_5 (Activation)   (None, 10, 10, 64)        0         \n",
            "                                                                 \n",
            " conv2d_5 (Conv2D)           (None, 8, 8, 64)          36928     \n",
            "                                                                 \n",
            " batch_normalization_3 (Batc  (None, 8, 8, 64)         256       \n",
            " hNormalization)                                                 \n",
            "                                                                 \n",
            " activation_6 (Activation)   (None, 8, 8, 64)          0         \n",
            "                                                                 \n",
            " max_pooling2d_2 (MaxPooling  (None, 4, 4, 64)         0         \n",
            " 2D)                                                             \n",
            "                                                                 \n",
            " flatten_1 (Flatten)         (None, 1024)              0         \n",
            "                                                                 \n",
            " dense_5 (Dense)             (None, 512)               524800    \n",
            "                                                                 \n",
            " batch_normalization_4 (Batc  (None, 512)              2048      \n",
            " hNormalization)                                                 \n",
            "                                                                 \n",
            " activation_7 (Activation)   (None, 512)               0         \n",
            "                                                                 \n",
            " dropout_2 (Dropout)         (None, 512)               0         \n",
            "                                                                 \n",
            " dense_6 (Dense)             (None, 10)                5130      \n",
            "                                                                 \n",
            " activation_8 (Activation)   (None, 10)                0         \n",
            "                                                                 \n",
            "=================================================================\n",
            "Total params: 597,738\n",
            "Trainable params: 596,330\n",
            "Non-trainable params: 1,408\n",
            "_________________________________________________________________\n"
          ]
        }
      ]
    },
    {
      "cell_type": "code",
      "metadata": {
        "id": "sfsEyzZ-YTbA",
        "colab": {
          "base_uri": "https://localhost:8080/"
        },
        "outputId": "42ffc419-660d-4f66-84bc-8680bc0817e1"
      },
      "source": [
        "################################################\n",
        "print('Using again the adam optimizer')\n",
        "\n",
        "model.compile(\n",
        "    loss='categorical_crossentropy', \n",
        "    optimizer='adam', \n",
        "    metrics=['accuracy']\n",
        "    )"
      ],
      "execution_count": null,
      "outputs": [
        {
          "output_type": "stream",
          "name": "stdout",
          "text": [
            "Using again the adam optimizer\n"
          ]
        }
      ]
    },
    {
      "cell_type": "code",
      "metadata": {
        "id": "PoEdjNnKYbTD"
      },
      "source": [
        "###########################################\n",
        "# Data augmentation.\n",
        "# Data augmentation prevents overfitting by addin randomly and slightly changed \n",
        "# images to the training set.\n",
        "# Keras has a great built-in feature to do automatic augmentation of images\n",
        "# Extra images are created by slighty rotating, shifting, zooming, ... images\n",
        "\n",
        "gen = ImageDataGenerator(rotation_range=8, width_shift_range=0.08, shear_range=0.3,\n",
        "                         height_shift_range=0.08, zoom_range=0.08)\n",
        "\n",
        "test_gen = ImageDataGenerator() # No transformation is required for the test set"
      ],
      "execution_count": null,
      "outputs": []
    },
    {
      "cell_type": "code",
      "metadata": {
        "id": "-byHF4IAYhmp"
      },
      "source": [
        "###########################################\n",
        "# We can then feed our augmented data in batches\n",
        "# Besides loss function considerations as before, this method actually results in significant memory savings\n",
        "# because we are actually LOADING the data into the network in batches before processing each batch\n",
        "\n",
        "# Before the data was all loaded into memory, but then processed in batches.\n",
        "\n",
        "train_generator = gen.flow(X_train, Y_train, batch_size=128)\n",
        "test_generator = test_gen.flow(X_test, Y_test, batch_size=128)"
      ],
      "execution_count": null,
      "outputs": []
    },
    {
      "cell_type": "code",
      "metadata": {
        "id": "P9Cj0y9NYll4",
        "colab": {
          "base_uri": "https://localhost:8080/"
        },
        "outputId": "16c05a26-1dbb-487a-ad95-5960c906bc31"
      },
      "source": [
        "####### WARNING 25 MINUTES training ####################################\n",
        "# We can now train our model which is fed data by our batch loader\n",
        "# Steps per epoch should always be total size of the set divided by the batch size\n",
        "\n",
        "# Bath processing ensures SIGNIFICANT MEMORY SAVINGS (important for larger, deeper networks)\n",
        "\n",
        "# old code, now deprecated\n",
        "#model.fit_generator(train_generator, steps_per_epoch=60000//128, epochs=5, verbose=1, \n",
        "#                    validation_data=test_generator, validation_steps=10000//128)\n",
        "model.fit(train_generator, steps_per_epoch=60000//128, epochs=5, verbose=1, \n",
        "                    validation_data=test_generator, validation_steps=10000//128)\n",
        "\n",
        "# The model takes about 15 to 25 minutes to train (about 3 to 5 minutes per epoch)"
      ],
      "execution_count": null,
      "outputs": [
        {
          "output_type": "stream",
          "name": "stdout",
          "text": [
            "Epoch 1/5\n",
            "468/468 [==============================] - 188s 400ms/step - loss: 0.1295 - accuracy: 0.9595 - val_loss: 0.0622 - val_accuracy: 0.9818\n",
            "Epoch 2/5\n",
            "468/468 [==============================] - 183s 390ms/step - loss: 0.0481 - accuracy: 0.9846 - val_loss: 0.0347 - val_accuracy: 0.9889\n",
            "Epoch 3/5\n",
            "468/468 [==============================] - 182s 388ms/step - loss: 0.0394 - accuracy: 0.9882 - val_loss: 0.0496 - val_accuracy: 0.9853\n",
            "Epoch 4/5\n",
            "468/468 [==============================] - 183s 391ms/step - loss: 0.0356 - accuracy: 0.9889 - val_loss: 0.0183 - val_accuracy: 0.9940\n",
            "Epoch 5/5\n",
            "468/468 [==============================] - 182s 389ms/step - loss: 0.0309 - accuracy: 0.9901 - val_loss: 0.0332 - val_accuracy: 0.9874\n"
          ]
        },
        {
          "output_type": "execute_result",
          "data": {
            "text/plain": [
              "<keras.callbacks.History at 0x7f3d53db0b50>"
            ]
          },
          "metadata": {},
          "execution_count": 52
        }
      ]
    },
    {
      "cell_type": "markdown",
      "metadata": {
        "id": "FruM9uV0YrWX"
      },
      "source": [
        "Esempio di output del training\n",
        "\n",
        "Epoch 1/5\n",
        "468/468 [==============================] - 169s 360ms/step - loss: 0.1336 - accuracy: 0.9593 - val_loss: 0.0824 - val_accuracy: 0.9811\n",
        "\n",
        "Epoch 2/5\n",
        "468/468 [==============================] - 173s 370ms/step - loss: 0.0497 - accuracy: 0.9847 - val_loss: 0.0639 - val_accuracy: 0.9777\n",
        "\n",
        "Epoch 3/5\n",
        "468/468 [==============================] - 165s 352ms/step - loss: 0.0401 - accuracy: 0.9874 - val_loss: 0.0293 - val_accuracy: 0.9899\n",
        "\n",
        "Epoch 4/5\n",
        "468/468 [==============================] - 169s 362ms/step - loss: 0.0332 - accuracy: 0.9894 - val_loss: 0.0749 - val_accuracy: 0.9761\n",
        "\n",
        "Epoch 5/5\n",
        "468/468 [==============================] - 174s 371ms/step - loss: 0.0299 - accuracy: 0.9904 - val_loss: 0.0215 - val_accuracy: 0.9929\n",
        "<tensorflow.python.keras.callbacks.History at 0x7f8926abcc50>"
      ]
    },
    {
      "cell_type": "code",
      "metadata": {
        "id": "ZEOWcOKxe_-i",
        "colab": {
          "base_uri": "https://localhost:8080/"
        },
        "outputId": "70daccf9-05b0-4b4a-ac84-2c4f0f21fd9c"
      },
      "source": [
        "###########################################\n",
        "print('Saving the just trained model to file')\n",
        "#import os\n",
        "modelFileName='my_model_deep_conv_net.h5'\n",
        "if not os.path.exists(modelFileName):\n",
        "  model.save(modelFileName)\n",
        "  print('Model saved in '+modelFileName)\n",
        "else:\n",
        "  print('File already existing '+modelFileName)\n",
        "  # The latter to prevent overwriting an existing file\n"
      ],
      "execution_count": null,
      "outputs": [
        {
          "output_type": "stream",
          "name": "stdout",
          "text": [
            "Saving the just trained model to file\n",
            "Model saved in my_model_deep_conv_net.h5\n"
          ]
        }
      ]
    },
    {
      "cell_type": "code",
      "metadata": {
        "id": "J57qRj5sY6bC",
        "colab": {
          "base_uri": "https://localhost:8080/",
          "height": 70
        },
        "outputId": "f6be8bf4-537a-4d02-d4d7-7df30fca971d"
      },
      "source": [
        "###########################################\n",
        "# Copy the saved model to a safer place\n",
        "\n",
        "# When the Virtual Machine is collected \n",
        "# (e.g., after some time of inactivity), \n",
        "# the File System is emptied. Therefore, \n",
        "# better move the just trained and \n",
        "# saved model to a more permanent file system.\n",
        "\n",
        "# If you would like to copy your saved model \n",
        "# to your gdrive, please uncomment the code below \n",
        "# and follow the instructions.\n",
        "'''\n",
        "#### Mounting google drive on the File System of the Machine running colab\n",
        "## If required, please login to google drive and copy & paste the authentication token\n",
        "from google.colab import drive\n",
        "drive.mount('/content/drive', force_remount=True)\n",
        "!cp my_model_deep_conv_net.h5 '/content/drive/My Drive/Colab Notebooks/'\n",
        "'''\n",
        "\n",
        "\n",
        "\n"
      ],
      "execution_count": null,
      "outputs": [
        {
          "output_type": "execute_result",
          "data": {
            "text/plain": [
              "\"\\n#### Mounting google drive on the File System of the Machine running colab\\n## If required, please login to google drive and copy & paste the authentication token\\nfrom google.colab import drive\\ndrive.mount('/content/drive', force_remount=True)\\n!cp my_model_deep_conv_net.h5 '/content/drive/My Drive/Colab Notebooks/'\\n\""
            ],
            "application/vnd.google.colaboratory.intrinsic+json": {
              "type": "string"
            }
          },
          "metadata": {},
          "execution_count": 54
        }
      ]
    },
    {
      "cell_type": "code",
      "metadata": {
        "id": "Yd6XOj51wxlV",
        "colab": {
          "base_uri": "https://localhost:8080/"
        },
        "outputId": "1b3dd199-50d9-48b0-e6c6-e0fa80473d5f"
      },
      "source": [
        "###########################################\n",
        "print('Downloading already trained model')\n",
        "alreadyTrainedModelPath = downloadTrainedModel(\n",
        "    'model_deep_conv_net.h5', \n",
        "    '1gefGSHM1YFexhQOBZ79yuJJx_6EljrbR' # Google Drive Public Document ID\n",
        "    )"
      ],
      "execution_count": null,
      "outputs": [
        {
          "output_type": "stream",
          "name": "stdout",
          "text": [
            "Downloading already trained model\n",
            "Downloading data from https://docs.google.com/uc?export=download&id=1gefGSHM1YFexhQOBZ79yuJJx_6EljrbR\n",
            "7274496/7269608 [==============================] - 0s 0us/step\n",
            "7282688/7269608 [==============================] - 0s 0us/step\n",
            "Model saved in /content/model_deep_conv_net.h5\n"
          ]
        }
      ]
    },
    {
      "cell_type": "code",
      "metadata": {
        "id": "fIxQzK9_ij_N",
        "colab": {
          "base_uri": "https://localhost:8080/"
        },
        "outputId": "feadb8be-1244-4d1b-b94d-56b4734a78bb"
      },
      "source": [
        "###########################################\n",
        "# Loading a previously saved model from the Colab File System\n",
        "\n",
        "# model_mini_conv_net_v2.h5 \n",
        "print('Loading '+alreadyTrainedModelPath)\n",
        "\n",
        "# Better to specify the file full path\n",
        "model2 = load_model(alreadyTrainedModelPath)\n",
        "model2.summary()"
      ],
      "execution_count": null,
      "outputs": [
        {
          "output_type": "stream",
          "name": "stdout",
          "text": [
            "Loading /content/model_deep_conv_net.h5\n",
            "Model: \"sequential_3\"\n",
            "_________________________________________________________________\n",
            " Layer (type)                Output Shape              Param #   \n",
            "=================================================================\n",
            " conv2d_4 (Conv2D)           (None, 26, 26, 32)        320       \n",
            "                                                                 \n",
            " batch_normalization_5 (Batc  (None, 26, 26, 32)       128       \n",
            " hNormalization)                                                 \n",
            "                                                                 \n",
            " activation_12 (Activation)  (None, 26, 26, 32)        0         \n",
            "                                                                 \n",
            " conv2d_5 (Conv2D)           (None, 24, 24, 32)        9248      \n",
            "                                                                 \n",
            " batch_normalization_6 (Batc  (None, 24, 24, 32)       128       \n",
            " hNormalization)                                                 \n",
            "                                                                 \n",
            " activation_13 (Activation)  (None, 24, 24, 32)        0         \n",
            "                                                                 \n",
            " max_pooling2d_2 (MaxPooling  (None, 12, 12, 32)       0         \n",
            " 2D)                                                             \n",
            "                                                                 \n",
            " conv2d_6 (Conv2D)           (None, 10, 10, 64)        18496     \n",
            "                                                                 \n",
            " batch_normalization_7 (Batc  (None, 10, 10, 64)       256       \n",
            " hNormalization)                                                 \n",
            "                                                                 \n",
            " activation_14 (Activation)  (None, 10, 10, 64)        0         \n",
            "                                                                 \n",
            " conv2d_7 (Conv2D)           (None, 8, 8, 64)          36928     \n",
            "                                                                 \n",
            " batch_normalization_8 (Batc  (None, 8, 8, 64)         256       \n",
            " hNormalization)                                                 \n",
            "                                                                 \n",
            " activation_15 (Activation)  (None, 8, 8, 64)          0         \n",
            "                                                                 \n",
            " max_pooling2d_3 (MaxPooling  (None, 4, 4, 64)         0         \n",
            " 2D)                                                             \n",
            "                                                                 \n",
            " flatten_1 (Flatten)         (None, 1024)              0         \n",
            "                                                                 \n",
            " dense_8 (Dense)             (None, 512)               524800    \n",
            "                                                                 \n",
            " batch_normalization_9 (Batc  (None, 512)              2048      \n",
            " hNormalization)                                                 \n",
            "                                                                 \n",
            " activation_16 (Activation)  (None, 512)               0         \n",
            "                                                                 \n",
            " dropout_5 (Dropout)         (None, 512)               0         \n",
            "                                                                 \n",
            " dense_9 (Dense)             (None, 10)                5130      \n",
            "                                                                 \n",
            " activation_17 (Activation)  (None, 10)                0         \n",
            "                                                                 \n",
            "=================================================================\n",
            "Total params: 597,738\n",
            "Trainable params: 596,330\n",
            "Non-trainable params: 1,408\n",
            "_________________________________________________________________\n"
          ]
        }
      ]
    },
    {
      "cell_type": "code",
      "metadata": {
        "id": "2feDzfS8YqIA",
        "colab": {
          "base_uri": "https://localhost:8080/"
        },
        "outputId": "d6226c73-4f25-43e0-b65d-d00caeb9e97b"
      },
      "source": [
        "###########################################\n",
        "print('Evaluating the Classifier performances')\n",
        "score = model2.evaluate(X_test, Y_test)\n",
        "print('Test score:', score[0])\n",
        "print('Test accuracy:', score[1])"
      ],
      "execution_count": null,
      "outputs": [
        {
          "output_type": "stream",
          "name": "stdout",
          "text": [
            "Evaluating the Classifier performances\n",
            "313/313 [==============================] - 8s 25ms/step - loss: 0.0222 - accuracy: 0.9928\n",
            "Test score: 0.022240495309233665\n",
            "Test accuracy: 0.9927999973297119\n"
          ]
        }
      ]
    },
    {
      "cell_type": "code",
      "metadata": {
        "id": "AkQnOxYPZqOS"
      },
      "source": [],
      "execution_count": null,
      "outputs": []
    },
    {
      "cell_type": "code",
      "metadata": {
        "id": "U3sATjqGZsgg"
      },
      "source": [],
      "execution_count": null,
      "outputs": []
    }
  ]
}