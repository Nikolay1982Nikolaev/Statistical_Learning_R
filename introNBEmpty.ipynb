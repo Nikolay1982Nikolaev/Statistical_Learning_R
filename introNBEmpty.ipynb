{
  "nbformat": 4,
  "nbformat_minor": 0,
  "metadata": {
    "colab": {
      "provenance": []
    },
    "kernelspec": {
      "name": "python3",
      "display_name": "Python 3"
    },
    "language_info": {
      "name": "python"
    }
  },
  "cells": [
    {
      "cell_type": "markdown",
      "source": [
        "# Notebook Introduction"
      ],
      "metadata": {
        "id": "lQ_m4OKPlF_L"
      }
    },
    {
      "cell_type": "markdown",
      "source": [
        "'''\n",
        "## Get started\n",
        "Please, use a different browser in case you are using *MS Internet Explorer* or *MS Edge* and you experience **mulfunctions**. \n",
        "\n",
        "To **run** or **work** on this [jupyter notebook](https://jupyter-notebook.readthedocs.io/en/stable/notebook.html) you **must** \n",
        "\n",
        "1. **Save the notebook** to your Google Drive. After saving the notebook, you will be able to run it.\n",
        "\n",
        "  * Select **File** / **Save a copy in Drive**  from the Colab menu (an example is below, the notebook name may change)\n",
        "     ![Colab Menu](https://drive.google.com/uc?export=download&id=1-WfIFWuHC6OSJb3iwnR7NqpkXs9tvwO2)\n",
        "  * If required, login with your google account  \n",
        "  ![Signin Button](https://drive.google.com/uc?export=download&id=1yomWF3t03TiPsrp6AAZDXIFpz5XXTvM1)  (any goole account is fine, you can use the campus account or your own gmail account)\n",
        "  \n",
        "\n",
        "2.  Files are usually saved in the  **Colaboratory** *directory* which is located on the root of your google drive. \n",
        "\n",
        "3. To open the notebook again:\n",
        "    * login to the google drive you saved the notebook: [drive.google.com](http://drive.google.com/)\n",
        "    * open the **Colaboratory** directory\n",
        "    * **right click** on the file. From the drop down menu choose **Open With** / **Google Colaboratory**\n",
        "\n",
        "4. In case of problems, please refer to [this document](https://docs.google.com/document/d/1Y-ABvbOQhMvi7COibLJopL-mnPsaCBv_KRr6eKAsnj8/edit?usp=sharing)\n",
        "\n",
        "5. By saving the first colab notebook in gdrive, it is automatically installed a **software extension** which is required to open or create new notebooks in your gdrive\n",
        "\n",
        "## Notebooks\n",
        "\n",
        "This is a [jupyter notebook](https://jupyter-notebook.readthedocs.io/en/stable/notebook.html) interface where several elements can be mixed e.g., \n",
        "\n",
        "* Cells containing programs (we will focus on the python programming language),\n",
        "* Inputs and outputs of the computations,\n",
        "* Explanatory text, \n",
        "* Mathematics, \n",
        "* Images,\n",
        "* Rich media representations of objects\n",
        "* ...\n",
        "\n",
        "## Cell Types\n",
        "We will mostly focus on two cell types:\n",
        "\n",
        "* Code\n",
        "* Text \n",
        "\n",
        "## Markdown\n",
        "Contents in **texts cells** can be written using [markdonw syntax](https://jupyter-notebook.readthedocs.io/en/stable/examples/Notebook/Working%20With%20Markdown%20Cells.html). \n",
        "\n",
        "Here it is a quick reference to the markdown syntax: \n",
        "\n",
        "[https://en.support.wordpress.com/markdown-quick-reference/](https://en.support.wordpress.com/markdown-quick-reference/) \n",
        "\n",
        "\n",
        "## Creating an empty Colab\n",
        "Please follows the next steps\n",
        "\n",
        "* Open in a browser the URL [https://drive.google.com/](https://drive.google.com/) \n",
        "\n",
        "* Please choose\n",
        "\n",
        "+ New / More / Colaboratory\n",
        "\n",
        "* Save the notebook in your preferred gdrive location  \n",
        "\n",
        "\n",
        "### COLAB Keyboard Shortcuts\n",
        "To access the COLAB keyboard shortcuts:\n",
        "\n",
        "[Menu] Tools / Keyboard Shortcuts (ctrl to be replaced by Command in the Mac)\n",
        "\n",
        "* Ctrl+M  M     To change a cell into text\n",
        "* Ctrl+M  Y      To change a cell into code\n",
        "* Ctrl+M L       Toggle line numbers\n",
        "\n",
        "'''"
      ],
      "metadata": {
        "id": "zK8VVtgGlIgk"
      }
    },
    {
      "cell_type": "code",
      "execution_count": null,
      "metadata": {
        "id": "y1Su5ej9kzkL"
      },
      "outputs": [],
      "source": []
    }
  ]
}